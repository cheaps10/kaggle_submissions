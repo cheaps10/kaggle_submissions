{
 "cells": [
  {
   "cell_type": "markdown",
   "metadata": {
    "hideCode": false,
    "hidePrompt": false
   },
   "source": [
    "# Titanic: Machine Learning from Disaster\n",
    "Chad Heaps\n",
    "March 2018\n",
    "\n",
    "Exploring different features and models in my first Kaggle project. The submission at the end of this notebook has a public score of 0.79425.  I think my biggest room for improvement is in data pre-processing and feature engineering/selection.\n",
    "\n",
    "Thanks to the Kaggle forums and public notebooks for a lot of help.  Also, a lot of help and some of the code came from Hands-on Machine Learning by Aurélien Géron http://shop.oreilly.com/product/0636920052289.do and the associated Notebooks at https://github.com/ageron/handson-ml\n",
    "\n",
    "\n",
    "## Overview of data  from Kaggle\n",
    "\n",
    "The data has been split into two groups:  \n",
    "training set (train.csv)  \n",
    "test set (test.csv)  \n",
    "The training set should be used to build your machine learning models. For the training set, we provide the outcome (also known as the “ground truth”) for each passenger. Your model will be based on “features” like passengers’ gender and class. You can also use feature engineering to create new features.  \n",
    "\n",
    "The test set should be used to see how well your model performs on unseen data. For the test set, we do not provide the ground truth for each passenger. It is your job to predict these outcomes. For each passenger in the test set, use the model you trained to predict whether or not they survived the sinking of the Titanic.  \n",
    "\n",
    "We also include gender_submission.csv, a set of predictions that assume all and only female passengers survive, as an example of what a submission file should look like.  \n",
    "\n",
    "Data Dictionary  \n",
    "Variable\tDefinition\tKey  \n",
    "survival\tSurvival\t0 = No, 1 = Yes  \n",
    "pclass\tTicket class\t1 = 1st, 2 = 2nd, 3 = 3rd  \n",
    "sex\tSex\t  \n",
    "Age\tAge in years\t  \n",
    "sibsp\t# of siblings / spouses aboard the Titanic\t  \n",
    "parch\t# of parents / children aboard the Titanic\t  \n",
    "ticket\tTicket number\t  \n",
    "fare\tPassenger fare\t  \n",
    "cabin\tCabin number\t\n",
    "embarked\tPort of Embarkation\tC = Cherbourg, Q = Queenstown, S = Southampton  \n",
    "Variable Notes  \n",
    "pclass: A proxy for socio-economic status (SES)  \n",
    "1st = Upper  \n",
    "2nd = Middle  \n",
    "3rd = Lower  \n",
    "\n",
    "age: Age is fractional if less than 1. If the age is estimated, is it in the form of xx.5  \n",
    "\n",
    "sibsp: The dataset defines family relations in this way...  \n",
    "Sibling = brother, sister, stepbrother, stepsister  \n",
    "Spouse = husband, wife (mistresses and fiancés were ignored)  \n",
    "\n",
    "parch: The dataset defines family relations in this way...  \n",
    "Parent = mother, father  \n",
    "Child = daughter, son, stepdaughter, stepson  \n",
    "Some children travelled only with a nanny, therefore parch=0 for them.  "
   ]
  },
  {
   "cell_type": "code",
   "execution_count": 1,
   "metadata": {
    "ExecuteTime": {
     "end_time": "2018-03-29T04:56:49.896363Z",
     "start_time": "2018-03-29T04:56:48.405602Z"
    },
    "_cell_guid": "a9be289f-068a-4383-9c94-c1d301a6c5a0",
    "_uuid": "315bc512deca3d2159cf95d912daff4dfda8d097",
    "hideCode": false,
    "hidePrompt": false
   },
   "outputs": [],
   "source": [
    "import copy\n",
    "import re\n",
    "import numpy as np\n",
    "import pandas as pd\n",
    "import matplotlib.pyplot as plt\n",
    "import scipy as sp\n",
    "from scipy import sparse\n",
    "from scipy.stats import randint, uniform\n",
    "\n",
    "\n",
    "from pandas.plotting import scatter_matrix\n",
    "\n",
    "#Matplotlib related imports\n",
    "import matplotlib.pyplot as plt\n",
    "import matplotlib\n",
    "import matplotlib.colors as colors\n",
    "import pylab\n",
    "from mpl_toolkits.mplot3d import Axes3D\n",
    "%matplotlib inline\n",
    "\n",
    "import seaborn as sns\n",
    "\n",
    "#Various Scikit-learn imports\n",
    "#Pre-processing and such\n",
    "from sklearn.model_selection import train_test_split, StratifiedShuffleSplit\n",
    "from sklearn.preprocessing import StandardScaler, FunctionTransformer, Imputer\n",
    "from sklearn.preprocessing import LabelEncoder, OneHotEncoder, MinMaxScaler\n",
    "from sklearn.pipeline import Pipeline, make_pipeline, FeatureUnion\n",
    "from sklearn.base import BaseEstimator, TransformerMixin\n",
    "from sklearn.utils import check_array\n",
    "\n",
    "\n",
    "#Fitting algorithms\n",
    "from sklearn.ensemble import RandomForestClassifier, VotingClassifier\n",
    "from sklearn.linear_model import LogisticRegression, LogisticRegressionCV\n",
    "from sklearn.svm import SVC\n",
    "from sklearn.neighbors import KNeighborsClassifier\n",
    "from sklearn.linear_model import SGDClassifier\n",
    "from sklearn.ensemble import BaggingClassifier\n",
    "from sklearn.tree import DecisionTreeClassifier\n",
    "from sklearn.ensemble import AdaBoostClassifier\n",
    "\n",
    "#Scoring utilities, etc.\n",
    "from sklearn.model_selection import cross_val_score, cross_val_predict\n",
    "from sklearn.model_selection import GridSearchCV, RandomizedSearchCV\n",
    "from sklearn.metrics import mean_squared_error, log_loss, auc, confusion_matrix\n",
    "from sklearn.metrics import f1_score, precision_recall_curve, roc_auc_score, roc_curve\n",
    "from sklearn.utils.validation import check_is_fitted\n",
    "plt.rcParams['patch.force_edgecolor'] = True #Add lines to bars in histograms\n",
    "\n",
    "rng = 42\n",
    "np.random.seed(rng)"
   ]
  },
  {
   "cell_type": "code",
   "execution_count": 2,
   "metadata": {
    "ExecuteTime": {
     "end_time": "2018-03-29T04:56:49.920371Z",
     "start_time": "2018-03-29T04:56:49.899466Z"
    },
    "_cell_guid": "9693dc21-89f2-4af0-83d9-60fe3f8f43ed",
    "_uuid": "7be5fa097f547ea98943a436c105d9a61d290b90",
    "hideCode": false,
    "hidePrompt": false
   },
   "outputs": [],
   "source": [
    "df = pd.read_csv('train.csv', index_col=0)"
   ]
  },
  {
   "cell_type": "code",
   "execution_count": 3,
   "metadata": {
    "ExecuteTime": {
     "end_time": "2018-03-29T04:56:49.935438Z",
     "start_time": "2018-03-29T04:56:49.922929Z"
    }
   },
   "outputs": [
    {
     "name": "stdout",
     "output_type": "stream",
     "text": [
      "<class 'pandas.core.frame.DataFrame'>\n",
      "Int64Index: 891 entries, 1 to 891\n",
      "Data columns (total 11 columns):\n",
      "Survived    891 non-null int64\n",
      "Pclass      891 non-null int64\n",
      "Name        891 non-null object\n",
      "Sex         891 non-null object\n",
      "Age         714 non-null float64\n",
      "SibSp       891 non-null int64\n",
      "Parch       891 non-null int64\n",
      "Ticket      891 non-null object\n",
      "Fare        891 non-null float64\n",
      "Cabin       204 non-null object\n",
      "Embarked    889 non-null object\n",
      "dtypes: float64(2), int64(4), object(5)\n",
      "memory usage: 83.5+ KB\n"
     ]
    }
   ],
   "source": [
    "df.info()"
   ]
  },
  {
   "cell_type": "code",
   "execution_count": 4,
   "metadata": {
    "ExecuteTime": {
     "end_time": "2018-03-29T04:56:49.972654Z",
     "start_time": "2018-03-29T04:56:49.938140Z"
    }
   },
   "outputs": [
    {
     "data": {
      "text/html": [
       "<div>\n",
       "<style scoped>\n",
       "    .dataframe tbody tr th:only-of-type {\n",
       "        vertical-align: middle;\n",
       "    }\n",
       "\n",
       "    .dataframe tbody tr th {\n",
       "        vertical-align: top;\n",
       "    }\n",
       "\n",
       "    .dataframe thead th {\n",
       "        text-align: right;\n",
       "    }\n",
       "</style>\n",
       "<table border=\"1\" class=\"dataframe\">\n",
       "  <thead>\n",
       "    <tr style=\"text-align: right;\">\n",
       "      <th></th>\n",
       "      <th>Survived</th>\n",
       "      <th>Pclass</th>\n",
       "      <th>Age</th>\n",
       "      <th>SibSp</th>\n",
       "      <th>Parch</th>\n",
       "      <th>Fare</th>\n",
       "    </tr>\n",
       "  </thead>\n",
       "  <tbody>\n",
       "    <tr>\n",
       "      <th>count</th>\n",
       "      <td>891.000000</td>\n",
       "      <td>891.000000</td>\n",
       "      <td>714.000000</td>\n",
       "      <td>891.000000</td>\n",
       "      <td>891.000000</td>\n",
       "      <td>891.000000</td>\n",
       "    </tr>\n",
       "    <tr>\n",
       "      <th>mean</th>\n",
       "      <td>0.383838</td>\n",
       "      <td>2.308642</td>\n",
       "      <td>29.699118</td>\n",
       "      <td>0.523008</td>\n",
       "      <td>0.381594</td>\n",
       "      <td>32.204208</td>\n",
       "    </tr>\n",
       "    <tr>\n",
       "      <th>std</th>\n",
       "      <td>0.486592</td>\n",
       "      <td>0.836071</td>\n",
       "      <td>14.526497</td>\n",
       "      <td>1.102743</td>\n",
       "      <td>0.806057</td>\n",
       "      <td>49.693429</td>\n",
       "    </tr>\n",
       "    <tr>\n",
       "      <th>min</th>\n",
       "      <td>0.000000</td>\n",
       "      <td>1.000000</td>\n",
       "      <td>0.420000</td>\n",
       "      <td>0.000000</td>\n",
       "      <td>0.000000</td>\n",
       "      <td>0.000000</td>\n",
       "    </tr>\n",
       "    <tr>\n",
       "      <th>25%</th>\n",
       "      <td>0.000000</td>\n",
       "      <td>2.000000</td>\n",
       "      <td>20.125000</td>\n",
       "      <td>0.000000</td>\n",
       "      <td>0.000000</td>\n",
       "      <td>7.910400</td>\n",
       "    </tr>\n",
       "    <tr>\n",
       "      <th>50%</th>\n",
       "      <td>0.000000</td>\n",
       "      <td>3.000000</td>\n",
       "      <td>28.000000</td>\n",
       "      <td>0.000000</td>\n",
       "      <td>0.000000</td>\n",
       "      <td>14.454200</td>\n",
       "    </tr>\n",
       "    <tr>\n",
       "      <th>75%</th>\n",
       "      <td>1.000000</td>\n",
       "      <td>3.000000</td>\n",
       "      <td>38.000000</td>\n",
       "      <td>1.000000</td>\n",
       "      <td>0.000000</td>\n",
       "      <td>31.000000</td>\n",
       "    </tr>\n",
       "    <tr>\n",
       "      <th>max</th>\n",
       "      <td>1.000000</td>\n",
       "      <td>3.000000</td>\n",
       "      <td>80.000000</td>\n",
       "      <td>8.000000</td>\n",
       "      <td>6.000000</td>\n",
       "      <td>512.329200</td>\n",
       "    </tr>\n",
       "  </tbody>\n",
       "</table>\n",
       "</div>"
      ],
      "text/plain": [
       "         Survived      Pclass         Age       SibSp       Parch        Fare\n",
       "count  891.000000  891.000000  714.000000  891.000000  891.000000  891.000000\n",
       "mean     0.383838    2.308642   29.699118    0.523008    0.381594   32.204208\n",
       "std      0.486592    0.836071   14.526497    1.102743    0.806057   49.693429\n",
       "min      0.000000    1.000000    0.420000    0.000000    0.000000    0.000000\n",
       "25%      0.000000    2.000000   20.125000    0.000000    0.000000    7.910400\n",
       "50%      0.000000    3.000000   28.000000    0.000000    0.000000   14.454200\n",
       "75%      1.000000    3.000000   38.000000    1.000000    0.000000   31.000000\n",
       "max      1.000000    3.000000   80.000000    8.000000    6.000000  512.329200"
      ]
     },
     "execution_count": 4,
     "metadata": {},
     "output_type": "execute_result"
    }
   ],
   "source": [
    "df.describe()"
   ]
  },
  {
   "cell_type": "code",
   "execution_count": 5,
   "metadata": {
    "ExecuteTime": {
     "end_time": "2018-03-29T04:56:49.985371Z",
     "start_time": "2018-03-29T04:56:49.975193Z"
    }
   },
   "outputs": [
    {
     "name": "stdout",
     "output_type": "stream",
     "text": [
      "Out of 891 passengers (in the train set), 342 survived\n",
      "This is  38.38% in total\n"
     ]
    }
   ],
   "source": [
    "live_total = df['Survived'].sum()\n",
    "dead_total = df.shape[0] - live_total\n",
    "print('Out of {} passengers (in the train set), {} survived'.format(df.shape[0], \n",
    "                                                 live_total))\n",
    "print('This is {: 6.2f}% in total'.format(100.*(live_total / df.shape[0])))"
   ]
  },
  {
   "cell_type": "markdown",
   "metadata": {},
   "source": [
    "### A little EDA"
   ]
  },
  {
   "cell_type": "code",
   "execution_count": 6,
   "metadata": {
    "ExecuteTime": {
     "end_time": "2018-03-29T04:56:49.997174Z",
     "start_time": "2018-03-29T04:56:49.988109Z"
    }
   },
   "outputs": [],
   "source": [
    "dead_df = df.loc[df['Survived'] == 0, :].copy()\n",
    "live_df = df.loc[df['Survived'] == 1, :].copy()"
   ]
  },
  {
   "cell_type": "code",
   "execution_count": 7,
   "metadata": {
    "ExecuteTime": {
     "end_time": "2018-03-29T04:56:50.008609Z",
     "start_time": "2018-03-29T04:56:50.000287Z"
    }
   },
   "outputs": [
    {
     "data": {
      "text/plain": [
       "Survived    1.000000\n",
       "Pclass     -0.338481\n",
       "Age        -0.077221\n",
       "SibSp      -0.035322\n",
       "Parch       0.081629\n",
       "Fare        0.257307\n",
       "Name: Survived, dtype: float64"
      ]
     },
     "execution_count": 7,
     "metadata": {},
     "output_type": "execute_result"
    }
   ],
   "source": [
    "df.corr()['Survived']"
   ]
  },
  {
   "cell_type": "markdown",
   "metadata": {},
   "source": [
    "Unsurprisingly, Passenger Class and Fare are strongly correlated with survival.  In the next cell, we map Sex to a numerical value and see it is also strongly correlated."
   ]
  },
  {
   "cell_type": "code",
   "execution_count": 8,
   "metadata": {
    "ExecuteTime": {
     "end_time": "2018-03-29T04:56:50.022592Z",
     "start_time": "2018-03-29T04:56:50.011366Z"
    }
   },
   "outputs": [
    {
     "data": {
      "text/plain": [
       "female      0.543351\n",
       "male       -0.543351\n",
       "Survived    1.000000\n",
       "Name: Survived, dtype: float64"
      ]
     },
     "execution_count": 8,
     "metadata": {},
     "output_type": "execute_result"
    }
   ],
   "source": [
    "pd.concat([pd.get_dummies(df['Sex']), df.Survived], axis=1).corr()['Survived']"
   ]
  },
  {
   "cell_type": "code",
   "execution_count": 9,
   "metadata": {
    "ExecuteTime": {
     "end_time": "2018-03-29T04:56:50.462385Z",
     "start_time": "2018-03-29T04:56:50.024973Z"
    }
   },
   "outputs": [
    {
     "data": {
      "image/png": "[encoded data removed]",
      "text/plain": [
       "<Figure size 432x288 with 1 Axes>"
      ]
     },
     "metadata": {},
     "output_type": "display_data"
    }
   ],
   "source": [
    "fig, ax = plt.subplots(1,1, figsize=(6,4))\n",
    "sns.kdeplot(dead_df['Age'].dropna().values, shade=True, label='Dead', ax=ax)\n",
    "sns.kdeplot(live_df['Age'].dropna().values, shade=True, label='Alive', ax=ax)\n",
    "ax.set_xlabel('Age')\n",
    "ax.set_label('Kernel Density Estimate')\n",
    "plt.legend()\n",
    "plt.show()"
   ]
  },
  {
   "cell_type": "markdown",
   "metadata": {},
   "source": [
    "Do things change appreciably if we fill the NAs with the mean?  Not really."
   ]
  },
  {
   "cell_type": "code",
   "execution_count": 10,
   "metadata": {
    "ExecuteTime": {
     "end_time": "2018-03-29T04:56:50.618212Z",
     "start_time": "2018-03-29T04:56:50.466828Z"
    }
   },
   "outputs": [
    {
     "data": {
      "image/png": "[encoded data removed]",
      "text/plain": [
       "<Figure size 432x288 with 1 Axes>"
      ]
     },
     "metadata": {},
     "output_type": "display_data"
    }
   ],
   "source": [
    "fig, ax = plt.subplots(1,1, figsize=(6,4))\n",
    "sns.kdeplot(dead_df['Age'].fillna(dead_df.Age.mean()).values, shade=True, label='Dead', ax=ax)\n",
    "sns.kdeplot(live_df['Age'].fillna(live_df.Age.mean()).values, shade=True, label='Alive', ax=ax)\n",
    "ax.set_xlabel('Age')\n",
    "ax.set_label('Kernel Density Estimate')\n",
    "plt.legend()\n",
    "plt.show()"
   ]
  },
  {
   "cell_type": "markdown",
   "metadata": {},
   "source": [
    "Much of the distribution is similar, although being very young evidently helped survival.  Still, less compelling than I might expect"
   ]
  },
  {
   "cell_type": "markdown",
   "metadata": {},
   "source": [
    "#### Family size\n",
    "\n"
   ]
  },
  {
   "cell_type": "code",
   "execution_count": 11,
   "metadata": {
    "ExecuteTime": {
     "end_time": "2018-03-29T04:56:50.845224Z",
     "start_time": "2018-03-29T04:56:50.620597Z"
    }
   },
   "outputs": [
    {
     "data": {
      "image/png": "[encoded data removed]",
      "text/plain": [
       "<Figure size 432x288 with 1 Axes>"
      ]
     },
     "metadata": {},
     "output_type": "display_data"
    }
   ],
   "source": [
    "fig, ax = plt.subplots(1,1, figsize=(6,4))\n",
    "sns.kdeplot((dead_df.SibSp.fillna(dead_df.SibSp.mean()).values \n",
    "             + dead_df.Parch.fillna(dead_df.Parch.mean()).values), \n",
    "            shade=True, label='Dead', ax=ax)\n",
    "sns.kdeplot((live_df.SibSp.fillna(live_df.SibSp.mean()).values \n",
    "             + live_df.Parch.fillna(live_df.Parch.mean()).values), \n",
    "            shade=True, label='Live', ax=ax)\n",
    "ax.set_title('Survival as a function of family size')\n",
    "ax.set_xlabel('Family count')\n",
    "\n",
    "plt.legend()\n",
    "plt.show()"
   ]
  },
  {
   "cell_type": "markdown",
   "metadata": {},
   "source": [
    "Having some family appears to help somewhat.  Right now, I have the options of using a Boolean feature as to whether Family size is > 0 or to use it as a continuous variable (although only integer values are present)"
   ]
  },
  {
   "cell_type": "code",
   "execution_count": 12,
   "metadata": {
    "ExecuteTime": {
     "end_time": "2018-03-29T04:56:50.982061Z",
     "start_time": "2018-03-29T04:56:50.850167Z"
    },
    "scrolled": true
   },
   "outputs": [
    {
     "data": {
      "image/png": "[encoded data removed]",
      "text/plain": [
       "<Figure size 432x288 with 1 Axes>"
      ]
     },
     "metadata": {},
     "output_type": "display_data"
    }
   ],
   "source": [
    "ax = sns.boxplot(x='Survived', y='Parch', data=df)\n",
    "plt.show()"
   ]
  },
  {
   "cell_type": "code",
   "execution_count": 13,
   "metadata": {
    "ExecuteTime": {
     "end_time": "2018-03-29T04:56:51.124578Z",
     "start_time": "2018-03-29T04:56:50.986505Z"
    }
   },
   "outputs": [
    {
     "data": {
      "image/png": "[encoded data removed]",
      "text/plain": [
       "<Figure size 432x288 with 1 Axes>"
      ]
     },
     "metadata": {},
     "output_type": "display_data"
    }
   ],
   "source": [
    "ax = sns.boxplot(x='Survived', y='Fare', data=df)\n",
    "plt.show()"
   ]
  },
  {
   "cell_type": "markdown",
   "metadata": {},
   "source": [
    "## Train/Test split and functions for data processing"
   ]
  },
  {
   "cell_type": "code",
   "execution_count": 14,
   "metadata": {
    "ExecuteTime": {
     "end_time": "2018-03-29T04:56:51.147242Z",
     "start_time": "2018-03-29T04:56:51.127567Z"
    }
   },
   "outputs": [],
   "source": [
    "label = ['Survived']\n",
    "\n",
    "X = df.drop(label, axis=1)\n",
    "Y = df.drop([col for col in df.columns if col not in label], axis=1)\n",
    "X_train, X_test, y_train, y_test = train_test_split(X, Y, test_size = 0.2, \n",
    "                                                    stratify = Y.values, \n",
    "                                                    random_state = rng)\n",
    "y_train = y_train.values.reshape(-1)\n",
    "y_test = y_test.values.reshape(-1)\n",
    "y_tot = Y.values.reshape(-1)"
   ]
  },
  {
   "cell_type": "markdown",
   "metadata": {
    "hideCode": false,
    "hidePrompt": false
   },
   "source": [
    "#### Various functions and classes written to make my custom pre-processing compatible with sklearn pipeline"
   ]
  },
  {
   "cell_type": "code",
   "execution_count": 15,
   "metadata": {
    "ExecuteTime": {
     "end_time": "2018-03-29T04:56:51.868746Z",
     "start_time": "2018-03-29T04:56:51.152016Z"
    },
    "hideCode": false,
    "hidePrompt": false,
    "hide_input": false
   },
   "outputs": [],
   "source": [
    "class DataFrameSelector(BaseEstimator, TransformerMixin):\n",
    "    \"\"\"\n",
    "    This comes from Hands-on Machine Learning by Aurélien Géron\n",
    "    http://shop.oreilly.com/product/0636920052289.do\n",
    "    Create a class to select numerical or categorical columns \n",
    "    Haven't looked into the sklearn-pandas module yet\n",
    "    Should be at beginning of a given pipeline\n",
    "    \"\"\"\n",
    "    def __init__(self, attribute_names):\n",
    "        self.attribute_names = attribute_names\n",
    "    def fit(self, X, y=None):\n",
    "        return self\n",
    "    def transform(self, X):\n",
    "        return X[self.attribute_names].copy()\n",
    "\n",
    "class DataFrameExtractor(BaseEstimator, TransformerMixin):\n",
    "    \"\"\"\n",
    "    Extract the numeric data from the transformed DataFrame\n",
    "    This should be the last pipeline step before sklearn preprocessing\n",
    "    Will also store the final set of column names as a parameter for \n",
    "    easy access when evaluating feature contributions to model\n",
    "    \"\"\"\n",
    "    def __init__(self, colParams = None):\n",
    "        self.colParams = colParams\n",
    "        return\n",
    "    def fit(self, X, y=None):\n",
    "        return self\n",
    "    def transform(self, X):\n",
    "        self.colParams = X.columns.tolist()\n",
    "        return X.values.copy().astype(np.float)\n",
    "\n",
    "class Prep_category(BaseEstimator, TransformerMixin):\n",
    "    \"\"\"\n",
    "    Pipeline compatible class to convert DataFrame of \n",
    "    character data into encoded data suitable for learning algorithms\n",
    "    Uses pandas get_dummies for encoding\n",
    "    \n",
    "    There are alternatives to pandas get_dummies.\n",
    "    \n",
    "    With get_dummies, I have set drop_first = True, which removes one of the\n",
    "    OneHot category columns.  This was after checking the pearson-r values and \n",
    "    seeing the redundancy.  The ill-conditioning is a problem for models\n",
    "    https://stats.stackexchange.com/questions/224051/one-hot-vs-dummy-encoding-in-scikit-learn\n",
    "    \n",
    "    1) CategoricalEncoder: This requires code from \n",
    "    https://github.com/scikit-learn/scikit-learn/pull/9151\n",
    "    and is used in the Hands-on ML github notebooks.\n",
    "\n",
    "    ce = CategoricalEncoder(encoding='onehot-dense')\n",
    "    ce.fit_transform(df['Pclass'].values.reshape(-1,1))\n",
    "\n",
    "    2) Using native sklearn functionality.\n",
    "    le = LabelEncoder()\n",
    "    le.fit(df['Pclass'])\n",
    "    class_ints = le.transform(df['Pclass'])\n",
    "    \n",
    "    To achieve one-hot encoding like get_dummies, add this\n",
    "    \n",
    "    enc = OneHotEncoder(sparse = False)\n",
    "    enc.fit(class_ints.reshape(-1,1))\n",
    "    enc.transform(class_ints.reshape(-1,1))\n",
    "    \n",
    "    I am still learning about different methods to encode\n",
    "    categorical data.\n",
    "    \n",
    "    method = 'OneHot' uses get_dummies\n",
    "    method = 'LabelEncoder' \n",
    "    \n",
    "    OneHot creates a column for each possible value with a value of 0 or 1.\n",
    "    As an example, the data for the original Sex and the transformed data is\n",
    "    array([['male', 1, 0],\n",
    "           ['female', 0, 1],\n",
    "           ['female', 0, 1],\n",
    "           ['female', 0, 1],\n",
    "           ['male', 1, 0]])\n",
    "           \n",
    "    The LabelEncoder gives a single column with 0-(n_classes - 1) specifying the\n",
    "    category.  Using the column Embarked, which has three possibilities, looks like this\n",
    "    array([['S', 2],\n",
    "           ['C', 0],\n",
    "           ['S', 2],\n",
    "           ['S', 2],\n",
    "           ['S', 2],\n",
    "           ['Q', 1],\n",
    "           ['S', 2],\n",
    "           ['S', 2],\n",
    "           ['S', 2],\n",
    "           ['C', 0]],)\n",
    "    \"\"\"\n",
    "    \n",
    "    def __init__(self, drop_first = True, method = 'OneHot', \n",
    "                 cat_modes = None):\n",
    "        self.method = method\n",
    "        self.cat_modes = cat_modes\n",
    "        self.drop_first = drop_first\n",
    "        return\n",
    "    def fit(self, X, y=None):\n",
    "        temp_df = X.copy()\n",
    "        self.cat_modes = {}\n",
    "        for i_col in temp_df.columns.tolist():\n",
    "            self.cat_modes[i_col] =  temp_df[i_col].value_counts().idxmax()\n",
    "        return self\n",
    "    def transform(self, X):\n",
    "        temp_df = X.copy()\n",
    "        for i_col in temp_df.columns.tolist():\n",
    "            if temp_df[i_col].isnull().sum():\n",
    "                temp_df.loc[temp_df[i_col].isnull(),i_col] = (self.cat_modes\n",
    "                                                              [i_col])\n",
    "                \n",
    "            temp_df[i_col] = temp_df[i_col].astype('category')\n",
    "            if self.method == 'OneHot':\n",
    "                i_df = pd.get_dummies(temp_df[i_col], \n",
    "                                      prefix=i_col,\n",
    "                                      drop_first = self.drop_first)\n",
    "                temp_df = pd.concat([temp_df, i_df], axis=1)\n",
    "            elif self.method == 'LabelEncoder':\n",
    "                le = LabelEncoder()\n",
    "                arr = le.fit_transform(temp_df[i_col])\n",
    "                series1 = pd.Series(data=arr, \n",
    "                                    index=temp_df.index, dtype='category', \n",
    "                                    name = i_col + 'Encode')\n",
    "                temp_df = pd.concat([temp_df, series1], axis=1)\n",
    "                \n",
    "            temp_df.drop(i_col, axis = 1, inplace = True)\n",
    "        return temp_df\n",
    "  \n",
    "    \n",
    "class Deck_add(BaseEstimator, TransformerMixin):\n",
    "    \"\"\"\n",
    "    I have split up fit and transform so that I can find the proper\n",
    "    fillna values from the train set that will be used on the test set.\n",
    "    The point is to run fit_transform on the train to determine fill_vals,\n",
    "    then when transform is called on the test data, it fills in the most \n",
    "    frequent deck from the test set.\n",
    "    The code is a little redundant but should get the job done.\n",
    "    \n",
    "    It does assume that every passenger has a Pclass.\n",
    "    \"\"\"\n",
    "    def __init__(self, fill_vals = None):\n",
    "        self.fill_vals = fill_vals\n",
    "        self.allowed_decks = ['A','B','C','D','E','F']\n",
    "    def fit(self, X, y=None):\n",
    "        temp_df = X.copy()\n",
    "        \n",
    "        cabin_df = temp_df.loc[temp_df['Cabin'].notnull(), :]\n",
    "        deck_series =pd.Series(index=temp_df.index, dtype=str)\n",
    "        for i,j in cabin_df.iterrows():\n",
    "            deck_series.loc[i] = j['Cabin'].split()[0][0]\n",
    "            if deck_series.loc[i] not in self.allowed_decks:\n",
    "                deck_series.loc[i] = np.nan\n",
    "\n",
    "        temp_df = temp_df.assign(Deck = deck_series.values)\n",
    "        self.fill_vals = (temp_df.groupby(\n",
    "                                        ['Deck', 'Pclass']\n",
    "                                        )\n",
    "                                        .size()\n",
    "                                        .unstack(fill_value=0)\n",
    "                                        .idxmax()\n",
    "                         )\n",
    "        return self\n",
    "    def transform(self, X):\n",
    "        temp_df = X.copy()\n",
    "        cabin_df = temp_df.loc[temp_df['Cabin'].notnull(), :]\n",
    "        deck_series = pd.Series(index=temp_df.index, dtype=str)\n",
    "        for i,j in cabin_df.iterrows():\n",
    "            deck_series.loc[i] = j['Cabin'].split()[0][0]\n",
    "            if deck_series.loc[i] not in self.allowed_decks:\n",
    "                deck_series.loc[i] = np.nan\n",
    "\n",
    "        temp_df = temp_df.assign(Deck = deck_series.values)\n",
    "        null_inds = temp_df.loc[temp_df['Cabin'].isnull()].index\n",
    "        for i in null_inds:\n",
    "            temp_df.loc[i, 'Deck'] = self.fill_vals.loc[temp_df.loc[i, 'Pclass']]\n",
    "        return temp_df\n",
    "\n",
    "def split_ticket(df, inplace = False):\n",
    "    \"\"\"\n",
    "    A function to parse the ticket numbers from Titanic passengers.\n",
    "    I do not know how to interpret the numbers, but I have split them\n",
    "    into the preceding character strings (if present) and the\n",
    "    integer number at the end (if present).\n",
    "    \n",
    "    The ticket numbers are highly unstructured in that they have a variety of\n",
    "    lengths, letters, and what appear to be typos in some of the preceding\n",
    "    characters such as 'stono' vs. 'sotono'.  \n",
    "    \n",
    "    I do not think I will try to fit the ticket features for now.\n",
    "    \n",
    "    If inplace == True, return df updated \n",
    "    else if inplace == False, return a modified copy of df\n",
    "    \n",
    "    \"\"\"\n",
    "    find_int = re.compile('[0-9]+')\n",
    "    find_char = re.compile('([a-zA-Z].?\\/?[0-9]*\\.?)+\\D')\n",
    "    if inplace == False:\n",
    "        temp_df = df.copy()\n",
    "    else:\n",
    "        temp_df = df\n",
    "    \n",
    "    if 'Ticket_char' in temp_df:\n",
    "        temp_df.drop('Ticket_char', axis = 1, inplace = True)\n",
    "    if 'Ticket_number' in temp_df:\n",
    "        temp_df.drop('Ticket_number', axis = 1, inplace = True)\n",
    "    temp_df['Ticket_char'] = ''\n",
    "    temp_df['Ticket_number'] = 0\n",
    "        \n",
    "    for i,j in temp_df['Ticket'].iteritems():\n",
    "        csearch = find_char.search(j)\n",
    "        isearch = find_int.findall(j)\n",
    "        if csearch:\n",
    "            temp_df.loc[i, 'Ticket_char'] = csearch.group()\n",
    "        if isearch:\n",
    "            temp_df.loc[i, 'Ticket_number'] = int(isearch[-1])\n",
    "    #Lowercase ticket characters and remove non-alphanumeric characters\n",
    "    temp_df['Ticket_char'] = temp_df['Ticket_char'].str.lower()\n",
    "    temp_df['Ticket_char'] = (temp_df['Ticket_char'].\n",
    "                              str.replace('[^a-zA-Z0-9]', ''))\n",
    "    if inplace == True:\n",
    "        return\n",
    "    elif inplace == False:\n",
    "        return temp_df"
   ]
  },
  {
   "cell_type": "markdown",
   "metadata": {
    "hideCode": false,
    "hidePrompt": false
   },
   "source": [
    "Some functions for scoring, plotting, etc.\n",
    "\n",
    "Some of these are adopted from Hands-on ML, too"
   ]
  },
  {
   "cell_type": "code",
   "execution_count": 16,
   "metadata": {
    "ExecuteTime": {
     "end_time": "2018-03-29T04:56:51.962912Z",
     "start_time": "2018-03-29T04:56:51.871474Z"
    },
    "hideCode": false,
    "hidePrompt": false
   },
   "outputs": [],
   "source": [
    "def print_classifier_scores(model, x_train, y_train, x_test, y_test):\n",
    "    \"\"\"\n",
    "    Prints the scores and standard deviations for the train \n",
    "    and test sets for a given fit.\n",
    "    Assumes 'fit' has been called on the model and the model \n",
    "    has a score function.\n",
    "    \"\"\"\n",
    "    train_score = model.score(x_train, y_train)   \n",
    "    test_score  = model.score(x_test, y_test)\n",
    "    print('Training set score = {: 6.4f}'.format(train_score))\n",
    "    print('Testing set score  = {: 6.4f}'.format(test_score))\n",
    "    \n",
    "    logloss_train = log_loss(y_train, model.predict(x_train))\n",
    "    logloss_test = log_loss(y_test, model.predict(x_test))\n",
    "\n",
    "    print('Training set log loss = {: 6.4f}'.format(logloss_train))\n",
    "    print('Testing set log loss  = {: 6.4f}'.format(logloss_test))\n",
    "    return   \n",
    "\n",
    "def print_cv_scores(scores):\n",
    "    print(\"Scores:\", scores)\n",
    "    print(\"Mean:\", scores.mean())\n",
    "    print(\"Standard deviation:\", scores.std())\n",
    "    return\n",
    "\n",
    "def print_grid_search_results(grid_search, X_attribs, \n",
    "                       x_train, y_train,\n",
    "                       x_test, y_test, verbose=0):\n",
    "\n",
    "    print('Best score using scoring metric '\n",
    "          'from CV {: 8.5f}'.format(grid_search.best_score_))\n",
    "    print('Score in train data from best parameters {: 8.5f}'\n",
    "          .format(grid_search.best_estimator_.score(x_train, y_train)))\n",
    "    print('Score on test data from best parameters {: 8.5f}'\n",
    "          .format(grid_search.best_estimator_.score(x_test, y_test)))\n",
    "    print('Parameters for best score in CV {}\\n'\n",
    "          .format(grid_search.best_params_))\n",
    "    if verbose & hasattr(grid_search.best_estimator_, 'feature_importances_'):\n",
    "        feature_importances = grid_search.best_estimator_.feature_importances_\n",
    "        list_feature = sorted(zip(feature_importances, X_attribs))\n",
    "        print('Feature importance for best scoring parameters')\n",
    "        for i in list_feature:\n",
    "            print('Feature/Importance: {:s} {: 8.5f}'.format(i[1], i[0]))\n",
    "    if verbose:\n",
    "        cvres = grid_search.cv_results_\n",
    "        print('\\nMean score and parameters')\n",
    "        for mean_score, params in zip(cvres['mean_test_score'], cvres['params']):\n",
    "            print(mean_score, params)\n",
    "            \n",
    "def plot_roc_curve(fpr, tpr, label=None):\n",
    "    plt.plot(fpr, tpr, linewidth=2, label=label)\n",
    "    plt.plot([0, 1], [0, 1], 'k--')\n",
    "    plt.axis([0, 1, 0, 1])\n",
    "    plt.xlabel('False Positive Rate', fontsize=16)\n",
    "    plt.ylabel('True Positive Rate', fontsize=16)"
   ]
  },
  {
   "cell_type": "markdown",
   "metadata": {},
   "source": [
    "#### Functions wrapping some common model evaluation tools\n",
    "\n",
    "Some of these are modified from the Hands-on ML book"
   ]
  },
  {
   "cell_type": "code",
   "execution_count": 17,
   "metadata": {
    "ExecuteTime": {
     "end_time": "2018-03-29T04:56:51.985516Z",
     "start_time": "2018-03-29T04:56:51.965631Z"
    },
    "hideCode": false,
    "hidePrompt": false
   },
   "outputs": [],
   "source": [
    "def model_eval(model, X_train, y_train, X_test, y_test):\n",
    "    \"\"\"\n",
    "    A simple wrapper function to quickly evaluate a model's performance\n",
    "    on the train and test sets\n",
    "    \"\"\"\n",
    "    print('Evaluating ' + str(model.__class__).strip('>')\n",
    "                                              .strip('\\'')\n",
    "                                              .split('.')[-1])\n",
    "    \n",
    "    clf = copy.deepcopy(model)\n",
    "    #clf.fit(X_train, y_train)\n",
    "    train_score = clf.score(X_train, y_train)\n",
    "    test_score = clf.score(X_test, y_test)\n",
    "    print('Train score: {: 8.5f} '  \n",
    "          ' Test score: {: 8.5}  '\n",
    "          'Difference {: 8.5}'.format(train_score, \n",
    "                                      test_score, \n",
    "                                      train_score - test_score))\n",
    "    \n",
    "    scores = cross_val_score(clf, X_train, y_train, cv=10)\n",
    "    print('Mean score on train set from 10-fold CV: {: 8.5f} '\n",
    "          '  Std. Dev.: {: 8.5f}'.format(scores.mean(), scores.std()))\n",
    "    return    "
   ]
  },
  {
   "cell_type": "code",
   "execution_count": 18,
   "metadata": {
    "ExecuteTime": {
     "end_time": "2018-03-29T04:56:52.040480Z",
     "start_time": "2018-03-29T04:56:51.988335Z"
    },
    "hideCode": false,
    "hidePrompt": false
   },
   "outputs": [],
   "source": [
    "#Boolean of whether passenger has cabin assignment\n",
    "Cabin_bool = FunctionTransformer(lambda x : \n",
    "                                 x.assign(Cabin_bool = x['Cabin'].notnull()),\n",
    "                                 validate = False)                                    \n",
    "#Boolean of whether passenger has Parch or SibSp\n",
    "Family_bool = FunctionTransformer(lambda x : \n",
    "                                  x.assign(Family_bool = \n",
    "                                           (x['Parch'].fillna(0) > 0) \n",
    "                                           | (x['SibSp'].fillna(0) > 0)),\n",
    "                                 validate = False)  \n",
    "#Just Siblings/Spouses\n",
    "SibSp_bool = FunctionTransformer(lambda x : \n",
    "                                  x.assign(\n",
    "                                      SibSp_bool = (\n",
    "                                                  x['SibSp'].fillna(0) > 0)\n",
    "                                                    ),\n",
    "                                 validate = False)  \n",
    "#Just parents/children\n",
    "Parch_bool = FunctionTransformer(lambda x : \n",
    "                                  x.assign(\n",
    "                                      Parch_bool = (\n",
    "                                                  x['Parch'].fillna(0) > 0)\n",
    "                                                    ),\n",
    "                                 validate = False) \n",
    "#Count family members as Parch + SibSp\n",
    "Family_total = FunctionTransformer(lambda x : \n",
    "                                   x.assign(Family_total = \n",
    "                                            (x['Parch'].fillna(0) \n",
    "                                             + x['SibSp'].fillna(0))),\n",
    "                                 validate = False) \n",
    "def sharedticket(xx):\n",
    "    temp1 = split_ticket(xx)\n",
    "    ticket_counts = pd.value_counts(temp1['Ticket_number'])\n",
    "    temp_series = temp1['Ticket_number'].apply(lambda xt : 1                                                           \n",
    "                                                          if ticket_counts[xt] > 1 \n",
    "                                                          else 0)\n",
    "    return xx.assign(Shared_ticket = temp_series)\n",
    "Shared_ticket = FunctionTransformer(sharedticket, validate=False)   \n",
    "\n",
    "#Name Lengh\n",
    "Name_len = FunctionTransformer(lambda x : x.assign(Name_len = \n",
    "                                                   df['Name'].str.len()), \n",
    "                               validate=False)\n"
   ]
  },
  {
   "cell_type": "markdown",
   "metadata": {},
   "source": [
    "These functions should take care of most of my pipeline fitting needs.  They allow easy transformation of data sets to test different features and pre-processing"
   ]
  },
  {
   "cell_type": "code",
   "execution_count": 19,
   "metadata": {
    "ExecuteTime": {
     "end_time": "2018-03-29T04:56:52.419093Z",
     "start_time": "2018-03-29T04:56:52.050149Z"
    },
    "hideCode": false,
    "hidePrompt": false
   },
   "outputs": [],
   "source": [
    "def construct_pipeline(cat_attrs = [None], num_attrs = [None], \n",
    "                  cat_encode = 'OneHot', imputer_strat = 'median',\n",
    "                  num_scaling = 'std_scaler', drop_cat_first = True, **kwargs):\n",
    "    \"\"\"\n",
    "    Given a list of numerical and categorial attributes, construct a pipeline\n",
    "    to process data.\n",
    "    \n",
    "    This will make testing different parameters easier\n",
    "    \n",
    "    Input:\n",
    "    cat_attributes: \n",
    "                    List of categorical attributes to use in ML model.\n",
    "                    These may be columns in the original DataFrame or\n",
    "                    engineered features if you have constructed an appropriate\n",
    "                    FunctionTransformer class and added it as\n",
    "                    if 'Feature' in cat_attributes:\n",
    "                    at the beginning of the pipeline creation\n",
    "    num_attributes:\n",
    "                    List of numerical attributes.  Same general idea as\n",
    "                    categorical_attributes although an sklearn Imputer is \n",
    "                    used to fill NA values and either StdScaler or \n",
    "                    MinMaxScaler is used to scale data.\n",
    "                \n",
    "    cat_encode:\n",
    "                Default = 'OneHot'.\n",
    "                This option defines encoding of categorial attributes.\n",
    "                'OneHot': \n",
    "                        Construct a new Boolean column for each category\n",
    "                        of each feature.  All values are binary (0 or 1)\n",
    "                'LabelEncoder':\n",
    "                        Retains a single column for each categorial\n",
    "                        attribute.  Each label is encoded with a value\n",
    "                        between 0 and n_categories-1.\n",
    "                        Warning: When n_categories > 2, the encoded data\n",
    "                        will take on values  other than (0, 1).  ML algorithms\n",
    "                        may treat adjacent encodings as being more similar, \n",
    "                        which is not necessarily the case.  \n",
    "                        When 'LabelEncoder' is selected, the features are\n",
    "                        scaled using MinMaxScaler to maintain (0,1) interval\n",
    "    impute_strat:\n",
    "                Default = 'median'\n",
    "                The Imputer strategy for sklearn.preprocessing.Imputer\n",
    "                Median is often fine, but refer to the sklearn documentation\n",
    "                for more options\n",
    "    \n",
    "    Output:\n",
    "            full_pipeline: An instance of sklearn.pipeline.FeatureUnion\n",
    "                An sklearn Transformer that concatenates the categorical\n",
    "                and numerical features.  \n",
    "                Methods (from sklearn documentation):\n",
    "                    fit(X[,y])\n",
    "                    fit_transform(X[, y])\n",
    "                    get_feature_names()\n",
    "                    get_params([deep])\n",
    "                    set_params(**kwargs)\n",
    "                    transform(X)\n",
    "                Use fit_transform on train data.\n",
    "                Use transform (not fit_transform!) on test data\n",
    "                to \n",
    "                See sklearn documentation for additional details\n",
    "                \n",
    "    \"\"\"\n",
    "    #Fill in options specified in kwargs.  Doing this added some flexibility\n",
    "    #from just the optional arguments\n",
    "    for arg, val in kwargs:\n",
    "        if arg == 'cat_attrs':\n",
    "            cat_attrs = val\n",
    "        if arg == 'num_attrs':\n",
    "            num_attrs = val \n",
    "        if arg == 'cat_encode':\n",
    "            cat_encode = val\n",
    "        if arg == 'imputer_strat':\n",
    "            imputer_strat = val\n",
    "        if arg == 'num_scaling':\n",
    "            num_scaling = val\n",
    "        if arg == 'drop_cat_first':\n",
    "            drop_cat_first == val\n",
    "    \n",
    "    cat_pipe = []\n",
    "    #Add classes for engineered features first\n",
    "    if 'Deck' in cat_attrs:\n",
    "        cat_pipe.append(('Deck', Deck_add()))\n",
    "    if 'Cabin_bool' in cat_attrs:\n",
    "        cat_pipe.append(('cabin_bool', Cabin_bool))\n",
    "    if 'Family_bool' in cat_attrs:\n",
    "        cat_pipe.append(('family_bool', Family_bool))\n",
    "    if 'Shared_ticket' in cat_attrs:\n",
    "        cat_pipe.append(('shared_ticket', Shared_ticket))\n",
    "    if 'Family_total' in cat_attrs:\n",
    "        cat_pipe.append(('Family_total', Family_total))  \n",
    "    #Extract those features from the full pipeline\n",
    "    cat_pipe.append(('selector', DataFrameSelector(cat_attrs)))\n",
    "    #Transform selected features to ML-friendly form, either\n",
    "    #Encoded as OneHot features or done with LabelEncoder which implies\n",
    "    #ordering in the categorial variables.\n",
    "    cat_pipe.append(('encode', Prep_category(drop_cat_first, \n",
    "                                             method=cat_encode)))\n",
    "    cat_pipe.append(('extractor', DataFrameExtractor()))\n",
    "    #Renormalize LabelEncoder features so that hey are between 0 and 1\n",
    "    if cat_encode == 'LabelEncoder':\n",
    "        cat_pipe.append(('minmax_scaler', MinMaxScaler()))\n",
    "    cat_pipeline = Pipeline(cat_pipe)\n",
    "    \n",
    "    num_pipe = []\n",
    "    #Add engineered numerical features\n",
    "    if 'Family_total' in num_attrs:\n",
    "        num_pipe.append(('Family_total', Family_total))\n",
    "    if 'Name_len' in num_attrs:\n",
    "        num_pipe.append(('name_len', Name_len))   \n",
    "    num_pipe += [\n",
    "                 ('selector', DataFrameSelector(num_attrs)), \n",
    "                 ('extractor', DataFrameExtractor()),\n",
    "                 ('imputer', Imputer(strategy=imputer_strat)),\n",
    "                ]\n",
    "    if num_scaling == 'std_scaler':\n",
    "        num_pipe += [('std_scaler', StandardScaler())]\n",
    "    elif num_scaling == 'minmax_scaler':\n",
    "        num_pipe += [('minmax_scaler', MinMaxScaler())]\n",
    "        \n",
    "    num_pipeline = Pipeline(num_pipe)\n",
    "    #Join the two pipelines for full data preparation\n",
    "    full_pipeline = FeatureUnion(\n",
    "                            transformer_list=[(\"num_pipeline\", num_pipeline),\n",
    "                                              (\"cat_pipeline\", cat_pipeline),\n",
    "                                              ])\n",
    "\n",
    "    return full_pipeline\n",
    "\n",
    "def fit_pipelines(model_dict, X_train, X_test, df, inplace=True, verbose=True):\n",
    "    \"\"\"\n",
    "    A function takesa  dictionary of features and options for the pipeline,\n",
    "    constructs the pipeline and fits.  \n",
    "    \n",
    "    Returns the updated dictionary by default but can return copy with\n",
    "    inplace=False\n",
    "    \n",
    "    \"\"\"\n",
    "    \n",
    "    if inplace == True:\n",
    "        models = model_dict\n",
    "    else:\n",
    "        models = copy.deepcopy(models)\n",
    "\n",
    "    for model, params in models.items():\n",
    "        print('Fitting model ', model)\n",
    "        models[model]['pipeline'] = construct_pipeline(**params)\n",
    "        #Apply fit_transform to training data.  Saves hyperparameters for\n",
    "        #pipeline construction\n",
    "        models[model]['X_train'] = models[model]['pipeline'].fit_transform(\n",
    "                                                            X_train)\n",
    "        #Call transform to use training set hyperparameters in test set prep\n",
    "        models[model]['X_test'] = models[model]['pipeline'].transform(\n",
    "                                                            X_test)\n",
    "        #For convenience and analysis, get the feature names and make a \n",
    "        #DataFrame out of the test set\n",
    "        columns = ((models[model]['pipeline'].get_params()\n",
    "                   ['num_pipeline__extractor__colParams'])\n",
    "                + (models[model]['pipeline'].get_params()\n",
    "                  ['cat_pipeline__extractor__colParams']))\n",
    "        \n",
    "        models[model]['df'] = pd.DataFrame(data = models[model]['X_train'], \n",
    "                                columns = columns,\n",
    "                                index=X_train.index)\n",
    "        models[model]['n_features'] = models[model]['df'].shape[1]\n",
    "        models[model]['X_attribs'] = columns\n",
    "        #Since the dataframe will only be used for analysis, I will attach the \n",
    "        #Survived column back on it\n",
    "        models[model]['df'] = models[model]['df'].assign(Survived=df.loc[\n",
    "                                                    models[model]['df'].index, \n",
    "                                                    'Survived'])\n",
    "        if verbose:\n",
    "            print('Correlation coefficients of features with survival')\n",
    "            print(models[model]['df'].corr()['Survived'])\n",
    "            print('')\n",
    "    if inplace == True:\n",
    "        return\n",
    "    else:\n",
    "        return models\n"
   ]
  },
  {
   "cell_type": "markdown",
   "metadata": {},
   "source": [
    "## Model construction\n",
    "\n",
    "To expedite evaluation of features, I will use a dictionary of different feature sets and hyperparameters for the pipeline.  It should allow easy comparison of features.\n",
    "\n",
    "\n",
    "### Selecting categorial encoding and Numerical rescaling\n",
    "In this first test, I just want an idea of how the different encodings and rescaling options work, so the same features will be used in all cases.\n",
    "\n",
    "There is the possibility that different categorial features may be better suited for different encodings, but for now I use a single encoding each time."
   ]
  },
  {
   "cell_type": "code",
   "execution_count": 20,
   "metadata": {
    "ExecuteTime": {
     "end_time": "2018-03-29T04:56:52.458611Z",
     "start_time": "2018-03-29T04:56:52.422533Z"
    }
   },
   "outputs": [],
   "source": [
    "models = {}\n",
    "models['set1'] = {}\n",
    "#A solid set of features from previous experience\n",
    "models['set1']['cat_attrs'] = ['Pclass', 'Sex', 'Deck', 'Cabin_bool']\n",
    "models['set1']['num_attrs'] = ['Fare', 'Age', 'Family_total']\n",
    "models['set1']['cat_encode'] = 'OneHot'\n",
    "models['set1']['num_scaling'] = 'std_scaler'\n",
    "\n",
    "#Switch to LabelEncoder\n",
    "models['set2'] = {}\n",
    "models['set2']['cat_attrs'] = ['Pclass', 'Sex', 'Deck', 'Cabin_bool']\n",
    "models['set2']['num_attrs'] = ['Fare', 'Age', 'Family_total']\n",
    "models['set2']['cat_encode'] = 'LabelEncoder'\n",
    "models['set2']['num_scaling'] = 'std_scaler'\n",
    "\n",
    "#Switch to minmax_scaler\n",
    "models['set3'] = {}\n",
    "models['set3']['cat_attrs'] = ['Pclass', 'Sex', 'Deck', 'Cabin_bool']\n",
    "models['set3']['num_attrs'] = ['Fare', 'Age', 'Family_total']\n",
    "models['set3']['cat_encode'] = 'OneHot'\n",
    "models['set3']['num_scaling'] = 'minmax_scaler'\n",
    "\n",
    "#Switch to both\n",
    "models['set4'] = {}\n",
    "models['set4']['cat_attrs'] = ['Pclass', 'Sex', 'Deck', 'Cabin_bool']\n",
    "models['set4']['num_attrs'] = ['Fare', 'Age', 'Family_total']\n",
    "models['set4']['cat_encode'] = 'LabelEncoder'\n",
    "models['set4']['num_scaling'] = 'minmax_scaler'\n"
   ]
  },
  {
   "cell_type": "code",
   "execution_count": 21,
   "metadata": {
    "ExecuteTime": {
     "end_time": "2018-03-29T04:56:54.952327Z",
     "start_time": "2018-03-29T04:56:52.460725Z"
    }
   },
   "outputs": [
    {
     "name": "stdout",
     "output_type": "stream",
     "text": [
      "Fitting model  set1\n",
      "Fitting model  set2\n",
      "Fitting model  set3\n",
      "Fitting model  set4\n"
     ]
    }
   ],
   "source": [
    "fit_pipelines(models, X_train, X_test, df, verbose=0)"
   ]
  },
  {
   "cell_type": "code",
   "execution_count": 22,
   "metadata": {
    "ExecuteTime": {
     "end_time": "2018-03-29T04:57:20.494655Z",
     "start_time": "2018-03-29T04:56:54.955501Z"
    }
   },
   "outputs": [
    {
     "name": "stdout",
     "output_type": "stream",
     "text": [
      "GridSearch for model:  set1\n",
      "Best score using scoring metric from CV -0.44130\n",
      "Score in train data from best parameters  0.81461\n",
      "Score on test data from best parameters  0.80447\n",
      "Parameters for best score in CV {'C': 1.0190954773869347}\n",
      "\n",
      "GridSearch for model:  set2\n",
      "Best score using scoring metric from CV -0.44143\n",
      "Score in train data from best parameters  0.81882\n",
      "Score on test data from best parameters  0.79888\n",
      "Parameters for best score in CV {'C': 1.7603015075376887}\n",
      "\n",
      "GridSearch for model:  set3\n",
      "Best score using scoring metric from CV -0.44217\n",
      "Score in train data from best parameters  0.82022\n",
      "Score on test data from best parameters  0.79330\n",
      "Parameters for best score in CV {'C': 3.3316582914572868}\n",
      "\n",
      "GridSearch for model:  set4\n",
      "Best score using scoring metric from CV -0.44137\n",
      "Score in train data from best parameters  0.81320\n",
      "Score on test data from best parameters  0.79888\n",
      "Parameters for best score in CV {'C': 4.9623115577889445}\n",
      "\n"
     ]
    }
   ],
   "source": [
    "for model, params in models.items():\n",
    "    print('GridSearch for model: ', model)\n",
    "    param_grid = [\n",
    "                {'C':np.linspace(0.1, 6., 200)},\n",
    "                 ]\n",
    "    grid_search = GridSearchCV(LogisticRegression(random_state = rng),\n",
    "                               param_grid, \n",
    "                               cv= 10, \n",
    "                               n_jobs = 1,\n",
    "                               scoring= 'neg_log_loss')\n",
    "    grid_search.fit(params['X_train'], y_train)\n",
    "    print_grid_search_results(grid_search, params['X_attribs'],\n",
    "                              params['X_train'], y_train,\n",
    "                              params['X_test'], y_test, verbose=0)\n"
   ]
  },
  {
   "cell_type": "markdown",
   "metadata": {},
   "source": [
    "While they are all very similar, my first choice would have been OneHot and std_scaler and this offers no reason to depart from that choice.  Additionally, the regularization parameter is larger and I will happily keep that smaller to keep the decision function smoother."
   ]
  },
  {
   "cell_type": "markdown",
   "metadata": {
    "hideCode": false,
    "hidePrompt": false
   },
   "source": [
    "# Feature selection with cross-validation\n",
    "\n",
    "1.  Model selection:  Out of curiosity, I will try some of the common classification algorithms\n",
    "    - LogisticRegression\n",
    "    - SVM classifier\n",
    "    - Random Forest\n",
    "    - K-nearest Neighbors\n",
    "2.  Metrics\n",
    "    - I will primarily use accuracy, but may look into the confusion matrix, precision/recall score, or ROC-curve\n",
    "3.  Parameter optimization\n",
    "    - Use 10-fold cross validation with GridSearch to find best parameters\n",
    "\n",
    "\n",
    "### Possible features\n",
    "1. Categorial\n",
    "    - Deck\n",
    "    - Cabin_bool\n",
    "    - Family_bool\n",
    "    - Shared_ticket (if ticket is not unique)\n",
    "    - Sex\n",
    "    - Pclass\n",
    "    - Embarked (not used in any of my models)\n",
    "2.  Numerical\n",
    "    - Fare\n",
    "    - Age\n",
    "    - Name_len\n",
    "3. Could be either (family counts)\n",
    "    - SibSp\n",
    "    - Parch\n",
    "    - Family_total (SiSp + Parch)"
   ]
  },
  {
   "cell_type": "code",
   "execution_count": 23,
   "metadata": {
    "ExecuteTime": {
     "end_time": "2018-03-29T04:57:23.418188Z",
     "start_time": "2018-03-29T04:57:20.498368Z"
    }
   },
   "outputs": [
    {
     "name": "stdout",
     "output_type": "stream",
     "text": [
      "Fitting model  set1\n",
      "Fitting model  set2\n",
      "Fitting model  set3\n",
      "Fitting model  set4\n"
     ]
    }
   ],
   "source": [
    "models = {}\n",
    "models['set1'] = {}\n",
    "#All features\n",
    "models['set1']['cat_attrs'] = ['Pclass', 'Sex', 'Deck', 'Cabin_bool', 'Family_bool',\n",
    "                              'Shared_ticket']\n",
    "models['set1']['num_attrs'] = ['Fare', 'Age', 'Family_total', 'Name_len']\n",
    "models['set1']['cat_encode'] = 'OneHot'\n",
    "models['set1']['num_scaling'] = 'std_scaler'\n",
    "\n",
    "#Minimal set of effective features\n",
    "models['set2'] = {}\n",
    "models['set2']['cat_attrs'] = ['Pclass', 'Sex']\n",
    "models['set2']['num_attrs'] = ['Fare', 'Age']\n",
    "models['set2']['cat_encode'] = 'OneHot'\n",
    "models['set2']['num_scaling'] = 'std_scaler'\n",
    "\n",
    "#A moderate collection, the ones used in the preliminary check\n",
    "models['set3'] = {}\n",
    "models['set3']['cat_attrs'] = ['Pclass', 'Sex', 'Deck', 'Cabin_bool']\n",
    "models['set3']['num_attrs'] = ['Fare', 'Age', 'Family_total']\n",
    "models['set3']['cat_encode'] = 'OneHot'\n",
    "models['set3']['num_scaling'] = 'std_scaler'\n",
    "\n",
    "#One last variation\n",
    "models['set4'] = {}\n",
    "models['set4']['cat_attrs'] = ['Pclass', 'Sex', 'Deck', \n",
    "                               'Family_bool', 'Cabin_bool']\n",
    "models['set4']['num_attrs'] = ['Fare', 'Age']\n",
    "models['set4']['cat_encode'] = 'OneHot'\n",
    "models['set4']['num_scaling'] = 'std_scaler'\n",
    "\n",
    "#Fit all models\n",
    "fit_pipelines(models, X_train, X_test, df, verbose=0)"
   ]
  },
  {
   "cell_type": "markdown",
   "metadata": {
    "hideCode": false,
    "hidePrompt": false
   },
   "source": [
    "## Logistic Regression\n",
    "The principal parameter to optimize is C, the regularization parameter:   \n",
    "Small C = Strong regularization   \n",
    "May also select L1 or L2 norm  \n",
    "\n",
    "In some other preliminary work, the L1 estimator was not appreciably better and the scores are noisier as a function of C, so I will restrict my choices to L2"
   ]
  },
  {
   "cell_type": "code",
   "execution_count": 24,
   "metadata": {
    "ExecuteTime": {
     "end_time": "2018-03-29T04:57:50.808665Z",
     "start_time": "2018-03-29T04:57:23.423345Z"
    }
   },
   "outputs": [
    {
     "name": "stdout",
     "output_type": "stream",
     "text": [
      "GridSearch for model:  set1\n",
      "Best score using scoring metric from CV -0.44179\n",
      "Score in train data from best parameters  0.82303\n",
      "Score on test data from best parameters  0.81006\n",
      "Parameters for best score in CV {'C': 0.6040201005025125}\n",
      "\n"
     ]
    },
    {
     "data": {
      "image/png": "[encoded data removed]",
      "text/plain": [
       "<Figure size 432x288 with 1 Axes>"
      ]
     },
     "metadata": {},
     "output_type": "display_data"
    },
    {
     "name": "stdout",
     "output_type": "stream",
     "text": [
      "GridSearch for model:  set2\n",
      "Best score using scoring metric from CV -0.45191\n",
      "Score in train data from best parameters  0.80056\n",
      "Score on test data from best parameters  0.78771\n",
      "Parameters for best score in CV {'C': 5.97035175879397}\n",
      "\n"
     ]
    },
    {
     "data": {
      "image/png": "[encoded data removed]",
      "text/plain": [
       "<Figure size 432x288 with 1 Axes>"
      ]
     },
     "metadata": {},
     "output_type": "display_data"
    },
    {
     "name": "stdout",
     "output_type": "stream",
     "text": [
      "GridSearch for model:  set3\n",
      "Best score using scoring metric from CV -0.44130\n",
      "Score in train data from best parameters  0.81461\n",
      "Score on test data from best parameters  0.80447\n",
      "Parameters for best score in CV {'C': 1.0190954773869347}\n",
      "\n"
     ]
    },
    {
     "data": {
      "image/png": "[encoded data removed]",
      "text/plain": [
       "<Figure size 432x288 with 1 Axes>"
      ]
     },
     "metadata": {},
     "output_type": "display_data"
    },
    {
     "name": "stdout",
     "output_type": "stream",
     "text": [
      "GridSearch for model:  set4\n",
      "Best score using scoring metric from CV -0.44848\n",
      "Score in train data from best parameters  0.81461\n",
      "Score on test data from best parameters  0.78212\n",
      "Parameters for best score in CV {'C': 0.9894472361809046}\n",
      "\n"
     ]
    },
    {
     "data": {
      "image/png": "[encoded data removed]",
      "text/plain": [
       "<Figure size 432x288 with 1 Axes>"
      ]
     },
     "metadata": {},
     "output_type": "display_data"
    }
   ],
   "source": [
    "for model, params in models.items():\n",
    "    print('GridSearch for model: ', model)\n",
    "    param_grid = [\n",
    "                {'C':np.linspace(0.1, 6., 200)},\n",
    "                 ]\n",
    "    grid_search = GridSearchCV(LogisticRegression(random_state = rng),\n",
    "                               param_grid, \n",
    "                               cv= 10, \n",
    "                               n_jobs = 1,\n",
    "                               scoring= 'neg_log_loss')\n",
    "    grid_search.fit(params['X_train'], y_train)\n",
    "    print_grid_search_results(grid_search, params['X_attribs'],\n",
    "                              params['X_train'], y_train,\n",
    "                              params['X_test'], y_test, verbose=0)\n",
    "\n",
    "    #Save useful information to each dataset dictionary\n",
    "    params['logreg_grid_search'] = grid_search    \n",
    "    params['clf_logreg'] = grid_search.best_estimator_   \n",
    "    cvres = grid_search.cv_results_\n",
    "    scores = np.array([ [j['C'], i] \n",
    "                       for i,j in list(zip(cvres['mean_test_score'], \n",
    "                                           cvres['params']))])\n",
    "    plt.plot(scores[:,0], scores[:,1], 'bo-', markersize=3)\n",
    "    plt.xlabel('C parameter for logreg')\n",
    "    plt.ylabel('Score')\n",
    "    plt.show()"
   ]
  },
  {
   "cell_type": "markdown",
   "metadata": {},
   "source": [
    "#### Score summary from logistic regression"
   ]
  },
  {
   "cell_type": "code",
   "execution_count": 25,
   "metadata": {
    "ExecuteTime": {
     "end_time": "2018-03-29T04:57:50.913509Z",
     "start_time": "2018-03-29T04:57:50.811531Z"
    }
   },
   "outputs": [
    {
     "name": "stdout",
     "output_type": "stream",
     "text": [
      "Model : set1\n",
      "Evaluating LogisticRegression\n",
      "Train score:  0.82303  Test score:  0.81006  Difference  0.012978\n",
      "Mean score on train set from 10-fold CV:  0.80750   Std. Dev.:  0.04771\n",
      "Model : set2\n",
      "Evaluating LogisticRegression\n",
      "Train score:  0.80056  Test score:  0.78771  Difference  0.012852\n",
      "Mean score on train set from 10-fold CV:  0.79082   Std. Dev.:  0.04310\n",
      "Model : set3\n",
      "Evaluating LogisticRegression\n",
      "Train score:  0.81461  Test score:  0.80447  Difference  0.010137\n",
      "Mean score on train set from 10-fold CV:  0.80756   Std. Dev.:  0.04696\n",
      "Model : set4\n",
      "Evaluating LogisticRegression\n",
      "Train score:  0.81461  Test score:  0.78212  Difference  0.032484\n",
      "Mean score on train set from 10-fold CV:  0.80903   Std. Dev.:  0.04665\n"
     ]
    }
   ],
   "source": [
    "for model, params in models.items():\n",
    "    print('Model :', model)\n",
    "    model_eval(params['clf_logreg'], \n",
    "               params['X_train'], \n",
    "               y_train, \n",
    "               params['X_test'], \n",
    "               y_test)"
   ]
  },
  {
   "cell_type": "markdown",
   "metadata": {},
   "source": [
    "### SVC grid search\n",
    "\n",
    "The optimal hyperparameters for set1 are much different than the other sets, so I will run that one separately"
   ]
  },
  {
   "cell_type": "markdown",
   "metadata": {},
   "source": [
    "#### Comparing scoring metrics"
   ]
  },
  {
   "cell_type": "code",
   "execution_count": 26,
   "metadata": {
    "ExecuteTime": {
     "end_time": "2018-03-29T04:58:48.209064Z",
     "start_time": "2018-03-29T04:57:50.917720Z"
    }
   },
   "outputs": [
    {
     "name": "stdout",
     "output_type": "stream",
     "text": [
      "Fitting 10 folds for each of 200 candidates, totalling 2000 fits\n"
     ]
    },
    {
     "name": "stderr",
     "output_type": "stream",
     "text": [
      "[Parallel(n_jobs=3)]: Done 310 tasks      | elapsed:    3.3s\n",
      "[Parallel(n_jobs=3)]: Done 1510 tasks      | elapsed:   13.9s\n",
      "[Parallel(n_jobs=3)]: Done 2000 out of 2000 | elapsed:   17.7s finished\n"
     ]
    },
    {
     "name": "stdout",
     "output_type": "stream",
     "text": [
      "Scoring metric:  accuracy\n",
      "Best score using scoring metric from CV  0.83006\n",
      "Score in train data from best parameters  0.86798\n",
      "Score on test data from best parameters  0.82123\n",
      "Parameters for best score in CV {'C': 5.5602680347446185, 'gamma': 0.1}\n",
      "\n"
     ]
    },
    {
     "data": {
      "image/png": "[encoded data removed]",
      "text/plain": [
       "<Figure size 576x432 with 2 Axes>"
      ]
     },
     "metadata": {},
     "output_type": "display_data"
    },
    {
     "name": "stdout",
     "output_type": "stream",
     "text": [
      "Fitting 10 folds for each of 200 candidates, totalling 2000 fits\n"
     ]
    },
    {
     "name": "stderr",
     "output_type": "stream",
     "text": [
      "[Parallel(n_jobs=3)]: Done 310 tasks      | elapsed:    3.3s\n",
      "[Parallel(n_jobs=3)]: Done 1510 tasks      | elapsed:   14.2s\n"
     ]
    },
    {
     "name": "stdout",
     "output_type": "stream",
     "text": [
      "Scoring metric:  roc_auc\n",
      "Best score using scoring metric from CV  0.86724\n",
      "Score in train data from best parameters  0.85253\n",
      "Score on test data from best parameters  0.82123\n",
      "Parameters for best score in CV {'C': 3.6482899394510615, 'gamma': 0.0774263682681127}\n",
      "\n"
     ]
    },
    {
     "name": "stderr",
     "output_type": "stream",
     "text": [
      "[Parallel(n_jobs=3)]: Done 2000 out of 2000 | elapsed:   19.1s finished\n"
     ]
    },
    {
     "data": {
      "image/png": "[encoded data removed]",
      "text/plain": [
       "<Figure size 576x432 with 2 Axes>"
      ]
     },
     "metadata": {},
     "output_type": "display_data"
    },
    {
     "name": "stdout",
     "output_type": "stream",
     "text": [
      "Fitting 10 folds for each of 200 candidates, totalling 2000 fits\n"
     ]
    },
    {
     "name": "stderr",
     "output_type": "stream",
     "text": [
      "[Parallel(n_jobs=3)]: Done 310 tasks      | elapsed:    3.4s\n",
      "[Parallel(n_jobs=3)]: Done 1510 tasks      | elapsed:   15.3s\n",
      "[Parallel(n_jobs=3)]: Done 2000 out of 2000 | elapsed:   19.5s finished\n"
     ]
    },
    {
     "name": "stdout",
     "output_type": "stream",
     "text": [
      "Scoring metric:  average_precision\n",
      "Best score using scoring metric from CV  0.83994\n",
      "Score in train data from best parameters  0.84691\n",
      "Score on test data from best parameters  0.81006\n",
      "Parameters for best score in CV {'C': 12.915418732752679, 'gamma': 0.027825594022071243}\n",
      "\n"
     ]
    },
    {
     "data": {
      "image/png": "[encoded data removed]",
      "text/plain": [
       "<Figure size 576x432 with 2 Axes>"
      ]
     },
     "metadata": {},
     "output_type": "display_data"
    }
   ],
   "source": [
    "params = models['set1']\n",
    "for scoring in ['accuracy', 'roc_auc', 'average_precision']:\n",
    "    param_grid = [\n",
    "                 {'C':np.geomspace(1e-2, 30., 20), \n",
    "                  'gamma':np.geomspace(1e-2, 1e-1, 10),\n",
    "                 }\n",
    "              ]\n",
    "\n",
    "    grid_search = GridSearchCV(SVC(random_state = rng),\n",
    "                               param_grid, \n",
    "                               cv= 10, \n",
    "                               n_jobs = 3,\n",
    "                               scoring= scoring,\n",
    "                               verbose=1)\n",
    "    grid_search.fit(params['X_train'], y_train)\n",
    "    print('Scoring metric: ', scoring)\n",
    "    print_grid_search_results(grid_search, params['X_attribs'],\n",
    "                              params['X_train'], y_train,\n",
    "                              params['X_test'], y_test, verbose=0)\n",
    "    \n",
    "    fig, ax = plt.subplots(1,1, figsize=(8,6))\n",
    "\n",
    "    cvres = grid_search.cv_results_\n",
    "    plot_params = np.array([[i['C'], i['gamma'],j] \n",
    "                            for i, j in zip(list(cvres['params']), \n",
    "                                            cvres['mean_test_score'])])\n",
    "\n",
    "    nC = np.unique(plot_params[:,0]).size\n",
    "    nG = np.unique(plot_params[:,1]).size\n",
    "    CC = plot_params[:,0].reshape(nC, nG)\n",
    "    GG = plot_params[:,1].reshape(nC, nG)\n",
    "    train_scores = plot_params[:,2].reshape(nC, nG)\n",
    "    lims = [CC.min(), CC.max(), GG.min(), GG.max()]\n",
    "\n",
    "    pclr = ax.pcolormesh(CC,GG,train_scores)\n",
    "    # pclr = ax.imshow(train_scores.T,\n",
    "    #                  origin='lower',\n",
    "    #                  extent=lims,\n",
    "    #                  aspect=np.ptp(CC)/np.ptp(GG))\n",
    "\n",
    "    fig.colorbar(pclr, shrink=1.0, ax=ax).set_label(label='Score',\n",
    "                                                    size=15,weight='semibold')\n",
    "    ax.set_xlabel('C')\n",
    "    ax.set_ylabel('Gamma')\n",
    "    ax.set_title('Test scores using ' + scoring)\n",
    "\n",
    "    plt.show()"
   ]
  },
  {
   "cell_type": "markdown",
   "metadata": {},
   "source": [
    "While all the scoring methods select hyperparameters that score comparably well, the heatmap for 'accuracy' is poorly defined.  The shallow hyperparameter surface is hard to find an optimal set.  Of the other two, the 'roc_auc' performs a bit better, so I will go with that."
   ]
  },
  {
   "cell_type": "code",
   "execution_count": 27,
   "metadata": {
    "ExecuteTime": {
     "end_time": "2018-03-29T05:00:05.216114Z",
     "start_time": "2018-03-29T04:58:48.212276Z"
    }
   },
   "outputs": [
    {
     "name": "stdout",
     "output_type": "stream",
     "text": [
      "GridSearch for model:  set1\n",
      "Fitting 10 folds for each of 225 candidates, totalling 2250 fits\n"
     ]
    },
    {
     "name": "stderr",
     "output_type": "stream",
     "text": [
      "[Parallel(n_jobs=3)]: Done 234 tasks      | elapsed:    2.9s\n",
      "[Parallel(n_jobs=3)]: Done 1134 tasks      | elapsed:   10.7s\n"
     ]
    },
    {
     "name": "stdout",
     "output_type": "stream",
     "text": [
      "Best score using scoring metric from CV  0.86782\n",
      "Score in train data from best parameters  0.85253\n",
      "Score on test data from best parameters  0.82682\n",
      "Parameters for best score in CV {'C': 3.5838588718905897, 'gamma': 0.07999999999999999}\n",
      "\n",
      "GridSearch for model:  set2\n",
      "Fitting 10 folds for each of 225 candidates, totalling 2250 fits\n"
     ]
    },
    {
     "name": "stderr",
     "output_type": "stream",
     "text": [
      "[Parallel(n_jobs=3)]: Done 2250 out of 2250 | elapsed:   21.9s finished\n",
      "[Parallel(n_jobs=3)]: Done 310 tasks      | elapsed:    2.4s\n",
      "[Parallel(n_jobs=3)]: Done 1510 tasks      | elapsed:   10.2s\n"
     ]
    },
    {
     "name": "stdout",
     "output_type": "stream",
     "text": [
      "Best score using scoring metric from CV  0.85869\n",
      "Score in train data from best parameters  0.83848\n",
      "Score on test data from best parameters  0.80447\n",
      "Parameters for best score in CV {'C': 7.33197675107872, 'gamma': 0.32499999999999996}\n",
      "\n",
      "GridSearch for model:  set3\n",
      "Fitting 10 folds for each of 225 candidates, totalling 2250 fits\n"
     ]
    },
    {
     "name": "stderr",
     "output_type": "stream",
     "text": [
      "[Parallel(n_jobs=3)]: Done 2250 out of 2250 | elapsed:   16.1s finished\n",
      "[Parallel(n_jobs=3)]: Done 310 tasks      | elapsed:    2.6s\n",
      "[Parallel(n_jobs=3)]: Done 1510 tasks      | elapsed:   11.7s\n"
     ]
    },
    {
     "name": "stdout",
     "output_type": "stream",
     "text": [
      "Best score using scoring metric from CV  0.86621\n",
      "Score in train data from best parameters  0.81882\n",
      "Score on test data from best parameters  0.78771\n",
      "Parameters for best score in CV {'C': 0.1, 'gamma': 0.21999999999999997}\n",
      "\n",
      "GridSearch for model:  set4\n",
      "Fitting 10 folds for each of 225 candidates, totalling 2250 fits\n"
     ]
    },
    {
     "name": "stderr",
     "output_type": "stream",
     "text": [
      "[Parallel(n_jobs=3)]: Done 2250 out of 2250 | elapsed:   18.4s finished\n",
      "[Parallel(n_jobs=3)]: Done 310 tasks      | elapsed:    2.9s\n",
      "[Parallel(n_jobs=3)]: Done 1510 tasks      | elapsed:   12.7s\n"
     ]
    },
    {
     "name": "stdout",
     "output_type": "stream",
     "text": [
      "Best score using scoring metric from CV  0.86293\n",
      "Score in train data from best parameters  0.82163\n",
      "Score on test data from best parameters  0.77654\n",
      "Parameters for best score in CV {'C': 0.1430326186927546, 'gamma': 0.36}\n",
      "\n"
     ]
    },
    {
     "name": "stderr",
     "output_type": "stream",
     "text": [
      "[Parallel(n_jobs=3)]: Done 2250 out of 2250 | elapsed:   19.8s finished\n"
     ]
    }
   ],
   "source": [
    "for model, params in models.items():\n",
    "    print('GridSearch for model: ', model)\n",
    "    param_grid = [\n",
    "                 {'C':np.geomspace(1e-1, 15., 15), \n",
    "                  'gamma':np.linspace(1e-2, 0.5, 15),\n",
    "#                   'kernel':['rbf', 'poly']\n",
    "                 }\n",
    "              ]\n",
    "\n",
    "    grid_search = GridSearchCV(SVC(random_state = rng),\n",
    "                               param_grid, \n",
    "                               cv= 10, \n",
    "                               n_jobs = 3,\n",
    "                               scoring= 'roc_auc',\n",
    "                               verbose=1)\n",
    "    grid_search.fit(params['X_train'], y_train)\n",
    "    params['svc_grid_search'] = grid_search\n",
    "    params['clf_svc'] = grid_search.best_estimator_\n",
    "    print_grid_search_results(grid_search, params['X_attribs'],\n",
    "                              params['X_train'], y_train,\n",
    "                              params['X_test'], y_test, verbose=0)"
   ]
  },
  {
   "cell_type": "code",
   "execution_count": 28,
   "metadata": {
    "ExecuteTime": {
     "end_time": "2018-03-29T05:00:05.478665Z",
     "start_time": "2018-03-29T05:00:05.220360Z"
    }
   },
   "outputs": [
    {
     "data": {
      "image/png": "[encoded data removed]",
      "text/plain": [
       "<Figure size 576x432 with 2 Axes>"
      ]
     },
     "metadata": {},
     "output_type": "display_data"
    }
   ],
   "source": [
    "fig, ax = plt.subplots(1,1, figsize=(8,6))\n",
    "\n",
    "cvres = models['set1']['svc_grid_search'].cv_results_\n",
    "plot_params = np.array([[i['C'], i['gamma'],j] \n",
    "                        for i, j in zip(list(cvres['params']), \n",
    "                                        cvres['mean_test_score'])])\n",
    "\n",
    "nC = np.unique(plot_params[:,0]).size\n",
    "nG = np.unique(plot_params[:,1]).size\n",
    "CC = plot_params[:,0].reshape(nC, nG)\n",
    "GG = plot_params[:,1].reshape(nC, nG)\n",
    "train_scores = plot_params[:,2].reshape(nC, nG)\n",
    "lims = [CC.min(), CC.max(), GG.min(), GG.max()]\n",
    "\n",
    "pclr = ax.pcolormesh(CC,GG,train_scores)\n",
    "# pclr = ax.imshow(train_scores.T,\n",
    "#                  origin='lower',\n",
    "#                  extent=lims,\n",
    "#                  aspect=np.ptp(CC)/np.ptp(GG))\n",
    "\n",
    "fig.colorbar(pclr, shrink=1.0, ax=ax).set_label(label='Score',\n",
    "                                                size=15,weight='semibold')\n",
    "ax.set_xlabel('C')\n",
    "ax.set_ylabel('Gamma')\n",
    "ax.set_title('Test scores from CV')\n",
    "\n",
    "plt.show()"
   ]
  },
  {
   "cell_type": "markdown",
   "metadata": {},
   "source": [
    "#### Scoring summary for SVC"
   ]
  },
  {
   "cell_type": "code",
   "execution_count": 29,
   "metadata": {
    "ExecuteTime": {
     "end_time": "2018-03-29T05:00:06.019672Z",
     "start_time": "2018-03-29T05:00:05.481665Z"
    }
   },
   "outputs": [
    {
     "name": "stdout",
     "output_type": "stream",
     "text": [
      "Model : set1\n",
      "Evaluating SVC\n",
      "Train score:  0.85253  Test score:  0.82682  Difference  0.025712\n",
      "Mean score on train set from 10-fold CV:  0.82601   Std. Dev.:  0.04695\n",
      "Model : set2\n",
      "Evaluating SVC\n",
      "Train score:  0.83848  Test score:  0.80447  Difference  0.034014\n",
      "Mean score on train set from 10-fold CV:  0.82175   Std. Dev.:  0.03942\n",
      "Model : set3\n",
      "Evaluating SVC\n",
      "Train score:  0.81882  Test score:  0.78771  Difference  0.031111\n",
      "Mean score on train set from 10-fold CV:  0.81760   Std. Dev.:  0.03809\n",
      "Model : set4\n",
      "Evaluating SVC\n",
      "Train score:  0.82163  Test score:  0.77654  Difference  0.045093\n",
      "Mean score on train set from 10-fold CV:  0.80347   Std. Dev.:  0.04829\n"
     ]
    }
   ],
   "source": [
    "for model, params in models.items():\n",
    "    print('Model :', model)\n",
    "    model_eval(params['clf_svc'], \n",
    "               params['X_train'], \n",
    "               y_train, \n",
    "               params['X_test'], \n",
    "               y_test)"
   ]
  },
  {
   "cell_type": "markdown",
   "metadata": {},
   "source": [
    "## Random Forest Classifier"
   ]
  },
  {
   "cell_type": "markdown",
   "metadata": {},
   "source": [
    "I have not been able to find a set of parameters that does not dramatically overfit or underfit the data.  "
   ]
  },
  {
   "cell_type": "code",
   "execution_count": 30,
   "metadata": {
    "ExecuteTime": {
     "end_time": "2018-03-29T05:02:22.451083Z",
     "start_time": "2018-03-29T05:00:06.022136Z"
    }
   },
   "outputs": [
    {
     "name": "stdout",
     "output_type": "stream",
     "text": [
      "Fitting 10 folds for each of 48 candidates, totalling 480 fits\n"
     ]
    },
    {
     "name": "stderr",
     "output_type": "stream",
     "text": [
      "[Parallel(n_jobs=3)]: Done  82 tasks      | elapsed:    8.3s\n",
      "[Parallel(n_jobs=3)]: Done 374 tasks      | elapsed:   38.6s\n",
      "[Parallel(n_jobs=3)]: Done 480 out of 480 | elapsed:   51.5s finished\n"
     ]
    },
    {
     "name": "stdout",
     "output_type": "stream",
     "text": [
      "Best score using scoring metric from CV -0.42046\n",
      "Score in train data from best parameters  0.85674\n",
      "Score on test data from best parameters  0.81564\n",
      "Parameters for best score in CV {'max_depth': 6, 'max_features': 8, 'min_impurity_decrease': 0.001, 'min_samples_leaf': 11, 'n_estimators': 200}\n",
      "\n",
      "Fitting 10 folds for each of 8 candidates, totalling 80 fits\n"
     ]
    },
    {
     "name": "stderr",
     "output_type": "stream",
     "text": [
      "[Parallel(n_jobs=3)]: Done  80 out of  80 | elapsed:    8.4s finished\n"
     ]
    },
    {
     "name": "stdout",
     "output_type": "stream",
     "text": [
      "Best score using scoring metric from CV -0.42263\n",
      "Score in train data from best parameters  0.84551\n",
      "Score on test data from best parameters  0.81006\n",
      "Parameters for best score in CV {'max_depth': 6, 'max_features': 4, 'min_impurity_decrease': 0.001, 'min_samples_leaf': 11, 'n_estimators': 50}\n",
      "\n",
      "Fitting 10 folds for each of 40 candidates, totalling 400 fits\n"
     ]
    },
    {
     "name": "stderr",
     "output_type": "stream",
     "text": [
      "[Parallel(n_jobs=3)]: Done  82 tasks      | elapsed:    7.1s\n",
      "[Parallel(n_jobs=3)]: Done 382 tasks      | elapsed:   35.6s\n",
      "[Parallel(n_jobs=3)]: Done 400 out of 400 | elapsed:   37.7s finished\n"
     ]
    },
    {
     "name": "stdout",
     "output_type": "stream",
     "text": [
      "Best score using scoring metric from CV -0.42181\n",
      "Score in train data from best parameters  0.85674\n",
      "Score on test data from best parameters  0.81564\n",
      "Parameters for best score in CV {'max_depth': 6, 'max_features': 8, 'min_impurity_decrease': 0.001, 'min_samples_leaf': 11, 'n_estimators': 150}\n",
      "\n",
      "Fitting 10 folds for each of 40 candidates, totalling 400 fits\n"
     ]
    },
    {
     "name": "stderr",
     "output_type": "stream",
     "text": [
      "[Parallel(n_jobs=3)]: Done  82 tasks      | elapsed:    7.2s\n",
      "[Parallel(n_jobs=3)]: Done 382 tasks      | elapsed:   35.2s\n"
     ]
    },
    {
     "name": "stdout",
     "output_type": "stream",
     "text": [
      "Best score using scoring metric from CV -0.42359\n",
      "Score in train data from best parameters  0.85534\n",
      "Score on test data from best parameters  0.81006\n",
      "Parameters for best score in CV {'max_depth': 6, 'max_features': 8, 'min_impurity_decrease': 0.001, 'min_samples_leaf': 11, 'n_estimators': 50}\n",
      "\n"
     ]
    },
    {
     "name": "stderr",
     "output_type": "stream",
     "text": [
      "[Parallel(n_jobs=3)]: Done 400 out of 400 | elapsed:   37.4s finished\n"
     ]
    }
   ],
   "source": [
    "\n",
    "for model, params in models.items():\n",
    "    param_grid = [\n",
    "                {'n_estimators': np.arange(50, 250, 50), \n",
    "#                  'criterion':['gini','entropy'],\n",
    "                 'max_features': np.arange(4, len(params['X_attribs'])+1, 2),\n",
    "                 'min_impurity_decrease':[1e-5, 1e-3],\n",
    "                     'min_samples_leaf': [11],\n",
    "                     'max_depth': [6],}\n",
    "#                   'oob_score': [False, True]},\n",
    "              ]\n",
    "\n",
    "    grid_search = GridSearchCV(RandomForestClassifier(random_state = rng),\n",
    "                           param_grid, \n",
    "                           cv= 10, \n",
    "                           n_jobs = 3,\n",
    "                           scoring= 'neg_log_loss',\n",
    "                           verbose=1)\n",
    "    grid_search.fit(params['X_train'], y_train)\n",
    "    # print_classifier_scores(grid_search.best_estimator_,\n",
    "    #                     params['X_train'], y_train,\n",
    "    #                     params['X_test'], y_test)\n",
    "\n",
    "    print_grid_search_results(grid_search, params['X_attribs'],\n",
    "                               params['X_train'], y_train,\n",
    "                               params['X_test'], y_test, verbose=0)\n",
    "    params['forest_grid_search'] = grid_search\n",
    "    params['clf_forest'] = grid_search.best_estimator_\n"
   ]
  },
  {
   "cell_type": "markdown",
   "metadata": {},
   "source": [
    "### K-Nearest Neighbors classifier"
   ]
  },
  {
   "cell_type": "code",
   "execution_count": 31,
   "metadata": {
    "ExecuteTime": {
     "end_time": "2018-03-29T05:02:29.375165Z",
     "start_time": "2018-03-29T05:02:22.455018Z"
    }
   },
   "outputs": [
    {
     "name": "stdout",
     "output_type": "stream",
     "text": [
      "Fitting 10 folds for each of 36 candidates, totalling 360 fits\n",
      "Best score using scoring metric from CV  0.80107\n",
      "Score in train data from best parameters  0.82163\n",
      "Score on test data from best parameters  0.81006\n",
      "Parameters for best score in CV {'metric': 'manhattan', 'n_neighbors': 14}\n",
      "\n",
      "Fitting 10 folds for each of 36 candidates, totalling 360 fits\n"
     ]
    },
    {
     "name": "stderr",
     "output_type": "stream",
     "text": [
      "[Parallel(n_jobs=3)]: Done 360 out of 360 | elapsed:    1.9s finished\n"
     ]
    },
    {
     "name": "stdout",
     "output_type": "stream",
     "text": [
      "Best score using scoring metric from CV  0.82081\n",
      "Score in train data from best parameters  0.82022\n",
      "Score on test data from best parameters  0.82123\n",
      "Parameters for best score in CV {'metric': 'manhattan', 'n_neighbors': 17}\n",
      "\n",
      "Fitting 10 folds for each of 36 candidates, totalling 360 fits\n"
     ]
    },
    {
     "name": "stderr",
     "output_type": "stream",
     "text": [
      "[Parallel(n_jobs=3)]: Done 360 out of 360 | elapsed:    1.1s finished\n"
     ]
    },
    {
     "name": "stdout",
     "output_type": "stream",
     "text": [
      "Best score using scoring metric from CV  0.81440\n",
      "Score in train data from best parameters  0.81461\n",
      "Score on test data from best parameters  0.76536\n",
      "Parameters for best score in CV {'metric': 'minkowski', 'n_neighbors': 18}\n",
      "\n",
      "Fitting 10 folds for each of 36 candidates, totalling 360 fits\n"
     ]
    },
    {
     "name": "stderr",
     "output_type": "stream",
     "text": [
      "[Parallel(n_jobs=3)]: Done 360 out of 360 | elapsed:    1.5s finished\n"
     ]
    },
    {
     "name": "stdout",
     "output_type": "stream",
     "text": [
      "Best score using scoring metric from CV  0.80290\n",
      "Score in train data from best parameters  0.81461\n",
      "Score on test data from best parameters  0.77654\n",
      "Parameters for best score in CV {'metric': 'manhattan', 'n_neighbors': 19}\n",
      "\n"
     ]
    },
    {
     "name": "stderr",
     "output_type": "stream",
     "text": [
      "[Parallel(n_jobs=3)]: Done 360 out of 360 | elapsed:    1.8s finished\n"
     ]
    }
   ],
   "source": [
    "for model, params in models.items():\n",
    "    param_grid = [\n",
    "                    {'n_neighbors':np.arange(2, 20), \n",
    "                     'metric':['minkowski', 'manhattan']\n",
    "                    },\n",
    "                  ]\n",
    "\n",
    "    grid_search = GridSearchCV(KNeighborsClassifier(),\n",
    "                           param_grid, \n",
    "                           cv= 10, \n",
    "                           n_jobs = 3,\n",
    "                           scoring= 'average_precision',\n",
    "                           verbose=1)\n",
    "    grid_search.fit(params['X_train'], y_train)\n",
    "    # print_classifier_scores(grid_search.best_estimator_,\n",
    "    #                     params['X_train'], y_train,\n",
    "    #                     params['X_test'], y_test)\n",
    "\n",
    "    print_grid_search_results(grid_search, params['X_attribs'],\n",
    "                               params['X_train'], y_train,\n",
    "                               params['X_test'], y_test, verbose=0)\n",
    "    params['knn_grid_search'] = grid_search\n",
    "    params['clf_knn'] = grid_search.best_estimator_\n",
    "\n"
   ]
  },
  {
   "cell_type": "markdown",
   "metadata": {},
   "source": [
    "# Load the test data, train the full training set using parameters from gridsearchCV, transform the test set, predict survival"
   ]
  },
  {
   "cell_type": "code",
   "execution_count": 41,
   "metadata": {
    "ExecuteTime": {
     "end_time": "2018-03-29T05:03:05.889297Z",
     "start_time": "2018-03-29T05:03:05.857305Z"
    },
    "hideCode": false,
    "hidePrompt": false
   },
   "outputs": [
    {
     "data": {
      "text/html": [
       "<div>\n",
       "<style scoped>\n",
       "    .dataframe tbody tr th:only-of-type {\n",
       "        vertical-align: middle;\n",
       "    }\n",
       "\n",
       "    .dataframe tbody tr th {\n",
       "        vertical-align: top;\n",
       "    }\n",
       "\n",
       "    .dataframe thead th {\n",
       "        text-align: right;\n",
       "    }\n",
       "</style>\n",
       "<table border=\"1\" class=\"dataframe\">\n",
       "  <thead>\n",
       "    <tr style=\"text-align: right;\">\n",
       "      <th></th>\n",
       "      <th>Pclass</th>\n",
       "      <th>Name</th>\n",
       "      <th>Sex</th>\n",
       "      <th>Age</th>\n",
       "      <th>SibSp</th>\n",
       "      <th>Parch</th>\n",
       "      <th>Ticket</th>\n",
       "      <th>Fare</th>\n",
       "      <th>Cabin</th>\n",
       "      <th>Embarked</th>\n",
       "    </tr>\n",
       "    <tr>\n",
       "      <th>PassengerId</th>\n",
       "      <th></th>\n",
       "      <th></th>\n",
       "      <th></th>\n",
       "      <th></th>\n",
       "      <th></th>\n",
       "      <th></th>\n",
       "      <th></th>\n",
       "      <th></th>\n",
       "      <th></th>\n",
       "      <th></th>\n",
       "    </tr>\n",
       "  </thead>\n",
       "  <tbody>\n",
       "    <tr>\n",
       "      <th>892</th>\n",
       "      <td>3</td>\n",
       "      <td>Kelly, Mr. James</td>\n",
       "      <td>male</td>\n",
       "      <td>34.5</td>\n",
       "      <td>0</td>\n",
       "      <td>0</td>\n",
       "      <td>330911</td>\n",
       "      <td>7.8292</td>\n",
       "      <td>NaN</td>\n",
       "      <td>Q</td>\n",
       "    </tr>\n",
       "    <tr>\n",
       "      <th>893</th>\n",
       "      <td>3</td>\n",
       "      <td>Wilkes, Mrs. James (Ellen Needs)</td>\n",
       "      <td>female</td>\n",
       "      <td>47.0</td>\n",
       "      <td>1</td>\n",
       "      <td>0</td>\n",
       "      <td>363272</td>\n",
       "      <td>7.0000</td>\n",
       "      <td>NaN</td>\n",
       "      <td>S</td>\n",
       "    </tr>\n",
       "    <tr>\n",
       "      <th>894</th>\n",
       "      <td>2</td>\n",
       "      <td>Myles, Mr. Thomas Francis</td>\n",
       "      <td>male</td>\n",
       "      <td>62.0</td>\n",
       "      <td>0</td>\n",
       "      <td>0</td>\n",
       "      <td>240276</td>\n",
       "      <td>9.6875</td>\n",
       "      <td>NaN</td>\n",
       "      <td>Q</td>\n",
       "    </tr>\n",
       "    <tr>\n",
       "      <th>895</th>\n",
       "      <td>3</td>\n",
       "      <td>Wirz, Mr. Albert</td>\n",
       "      <td>male</td>\n",
       "      <td>27.0</td>\n",
       "      <td>0</td>\n",
       "      <td>0</td>\n",
       "      <td>315154</td>\n",
       "      <td>8.6625</td>\n",
       "      <td>NaN</td>\n",
       "      <td>S</td>\n",
       "    </tr>\n",
       "    <tr>\n",
       "      <th>896</th>\n",
       "      <td>3</td>\n",
       "      <td>Hirvonen, Mrs. Alexander (Helga E Lindqvist)</td>\n",
       "      <td>female</td>\n",
       "      <td>22.0</td>\n",
       "      <td>1</td>\n",
       "      <td>1</td>\n",
       "      <td>3101298</td>\n",
       "      <td>12.2875</td>\n",
       "      <td>NaN</td>\n",
       "      <td>S</td>\n",
       "    </tr>\n",
       "  </tbody>\n",
       "</table>\n",
       "</div>"
      ],
      "text/plain": [
       "             Pclass                                          Name     Sex  \\\n",
       "PassengerId                                                                 \n",
       "892               3                              Kelly, Mr. James    male   \n",
       "893               3              Wilkes, Mrs. James (Ellen Needs)  female   \n",
       "894               2                     Myles, Mr. Thomas Francis    male   \n",
       "895               3                              Wirz, Mr. Albert    male   \n",
       "896               3  Hirvonen, Mrs. Alexander (Helga E Lindqvist)  female   \n",
       "\n",
       "              Age  SibSp  Parch   Ticket     Fare Cabin Embarked  \n",
       "PassengerId                                                       \n",
       "892          34.5      0      0   330911   7.8292   NaN        Q  \n",
       "893          47.0      1      0   363272   7.0000   NaN        S  \n",
       "894          62.0      0      0   240276   9.6875   NaN        Q  \n",
       "895          27.0      0      0   315154   8.6625   NaN        S  \n",
       "896          22.0      1      1  3101298  12.2875   NaN        S  "
      ]
     },
     "execution_count": 41,
     "metadata": {},
     "output_type": "execute_result"
    }
   ],
   "source": [
    "test_data = pd.read_csv('titanic_test.csv', index_col=0)\n",
    "test_data.head()"
   ]
  },
  {
   "cell_type": "markdown",
   "metadata": {
    "hideCode": false,
    "hidePrompt": false
   },
   "source": [
    "Use all of the available train data to train final model using the parameters determined from the split test/train set"
   ]
  },
  {
   "cell_type": "code",
   "execution_count": 43,
   "metadata": {
    "ExecuteTime": {
     "end_time": "2018-03-29T05:03:09.163528Z",
     "start_time": "2018-03-29T05:03:05.903304Z"
    }
   },
   "outputs": [
    {
     "name": "stdout",
     "output_type": "stream",
     "text": [
      "Fitting model  set1\n",
      "Fitting model  set2\n",
      "Fitting model  set3\n",
      "Fitting model  set4\n"
     ]
    }
   ],
   "source": [
    "full_models = {}\n",
    "full_models['set1'] = {}\n",
    "#All features\n",
    "full_models['set1']['cat_attrs'] = ['Pclass', 'Sex', 'Deck', 'Cabin_bool', 'Family_bool',\n",
    "                              'Shared_ticket']\n",
    "full_models['set1']['num_attrs'] = ['Fare', 'Age', 'Family_total', 'Name_len']\n",
    "full_models['set1']['cat_encode'] = 'OneHot'\n",
    "full_models['set1']['num_scaling'] = 'std_scaler'\n",
    "\n",
    "#Minimal set of effective features\n",
    "full_models['set2'] = {}\n",
    "full_models['set2']['cat_attrs'] = ['Pclass', 'Sex']\n",
    "full_models['set2']['num_attrs'] = ['Fare', 'Age']\n",
    "full_models['set2']['cat_encode'] = 'OneHot'\n",
    "full_models['set2']['num_scaling'] = 'std_scaler'\n",
    "\n",
    "#A moderate collection, the ones used in the preliminary check\n",
    "full_models['set3'] = {}\n",
    "full_models['set3']['cat_attrs'] = ['Pclass', 'Sex', 'Deck', 'Cabin_bool']\n",
    "full_models['set3']['num_attrs'] = ['Fare', 'Age', 'Family_total']\n",
    "full_models['set3']['cat_encode'] = 'OneHot'\n",
    "full_models['set3']['num_scaling'] = 'std_scaler'\n",
    "\n",
    "#One last variation\n",
    "full_models['set4'] = {}\n",
    "full_models['set4']['cat_attrs'] = ['Pclass', 'Sex', 'Deck', \n",
    "                               'Family_bool', 'Cabin_bool']\n",
    "full_models['set4']['num_attrs'] = ['Fare', 'Age']\n",
    "full_models['set4']['cat_encode'] = 'OneHot'\n",
    "full_models['set4']['num_scaling'] = 'std_scaler'\n",
    "\n",
    "#Fit all full_models\n",
    "fit_pipelines(full_models, X, test_data, df, verbose=0)"
   ]
  },
  {
   "cell_type": "markdown",
   "metadata": {},
   "source": [
    "## Prediction on test data\n",
    "\n",
    "After trying a few different ML models and feature sets, I obtained a new high score for myself of 0.79425!\n",
    "\n",
    "This was accomplished using the RandomForestClassifier."
   ]
  },
  {
   "cell_type": "code",
   "execution_count": 44,
   "metadata": {
    "ExecuteTime": {
     "end_time": "2018-03-29T05:03:09.805799Z",
     "start_time": "2018-03-29T05:03:09.165643Z"
    }
   },
   "outputs": [],
   "source": [
    "for model, params in full_models.items():\n",
    "    params['clf_forest'] = RandomForestClassifier(**models[model]['forest_grid_search'].best_params_,  \n",
    "                   random_state=rng)\n",
    "    params['clf_forest'].fit(params['X_train'], y_tot)"
   ]
  },
  {
   "cell_type": "code",
   "execution_count": 45,
   "metadata": {
    "ExecuteTime": {
     "end_time": "2018-03-29T05:03:12.722798Z",
     "start_time": "2018-03-29T05:03:09.807801Z"
    }
   },
   "outputs": [
    {
     "name": "stdout",
     "output_type": "stream",
     "text": [
      "Evaluating RandomForestClassifier\n",
      "Train score:  0.85185  Test score:  0.85185  Difference      0.0\n",
      "Mean score on train set from 10-fold CV:  0.81032   Std. Dev.:  0.03427\n"
     ]
    }
   ],
   "source": [
    "model_eval(full_models['set1']['clf_forest'], full_models['set1']['X_train'],\n",
    "          y_tot, full_models['set1']['X_train'], y_tot)"
   ]
  },
  {
   "cell_type": "code",
   "execution_count": 46,
   "metadata": {
    "ExecuteTime": {
     "end_time": "2018-03-29T05:03:12.750196Z",
     "start_time": "2018-03-29T05:03:12.725610Z"
    },
    "hideCode": false,
    "hidePrompt": false
   },
   "outputs": [],
   "source": [
    "test_y = full_models['set1']['clf_forest'].predict(full_models['set1']['X_test'])\n",
    "result = pd.DataFrame(data=test_y, index=test_data.index, columns=['Survived'])\n",
    "result.to_csv('submission1_titanic.csv')"
   ]
  }
 ],
 "metadata": {
  "celltoolbar": "Hide code",
  "hide_code_all_hidden": false,
  "kernelspec": {
   "display_name": "Python 3",
   "language": "python",
   "name": "python3"
  },
  "language_info": {
   "codemirror_mode": {
    "name": "ipython",
    "version": 3
   },
   "file_extension": ".py",
   "mimetype": "text/x-python",
   "name": "python",
   "nbconvert_exporter": "python",
   "pygments_lexer": "ipython3",
   "version": "3.6.4"
  }
 },
 "nbformat": 4,
 "nbformat_minor": 1
}
